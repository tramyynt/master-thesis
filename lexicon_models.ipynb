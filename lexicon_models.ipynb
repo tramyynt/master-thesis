{
 "cells": [
  {
   "cell_type": "code",
   "execution_count": 263,
   "metadata": {},
   "outputs": [],
   "source": [
    "HOME_DIR = \"/home_remote\"\n",
    "HOME = \"/home/thi.tra.my.nguyen\"\n",
    "\n",
    "from liwc import Liwc\n",
    "import os\n",
    "import pandas as pd\n",
    "import numpy as np\n",
    "import seaborn as sns\n",
    "import matplotlib.pyplot as plt\n",
    "from nltk import word_tokenize, ngrams"
   ]
  },
  {
   "cell_type": "code",
   "execution_count": 264,
   "metadata": {},
   "outputs": [],
   "source": [
    "positives_df_path = os.path.join(HOME_DIR, \"positive_df.pkl\")\n",
    "negatives_df_path = os.path.join(HOME_DIR, \"negative_df.pkl\")\n",
    "\n",
    "positives = pd.read_pickle(positives_df_path)\n",
    "negatives = pd.read_pickle(negatives_df_path)"
   ]
  },
  {
   "cell_type": "code",
   "execution_count": 265,
   "metadata": {},
   "outputs": [],
   "source": [
    "def construct_liwc_input(df, label):\n",
    "  \"\"\"\n",
    "  params: df - The positive/negative dataframe loaded from pickle\n",
    "    The df is expected to has these columns \"Title\", \"Date\", \"Text\", \"SubjectId\"\n",
    "  params: label - The label need to be assigned to result dataframe\n",
    "\n",
    "  returns: A dataframe contains \"SubjectId\", \"AverageLength\", \"Text\", \"NumOfWritings\", \"Title\"\n",
    "  \"\"\"\n",
    "  subject_id_list = df.loc[:, \"TrainSubjectId\"].unique()\n",
    "  df[\"Token\"] = df[\"Text\"].apply(lambda x: word_tokenize(x))\n",
    "\n",
    "  df['text'] = df['Text']+ df['Title']\n",
    "\n",
    "  grouped_by_subject_id = df.groupby('TrainSubjectId')\n",
    "\n",
    "  # calculate average token length for each user\n",
    "  average_length_df = grouped_by_subject_id['Token'].apply(lambda token_series: sum(len(token) for token in token_series) / len(token_series)).reset_index()\n",
    "  average_length_df.rename(columns={'Token': 'AverageLength'}, inplace=True)\n",
    "  #print(average_length_df.head())\n",
    "\n",
    "  # join all writings of single user into single corpus\n",
    "  joined_text_df = grouped_by_subject_id['text'].apply(' '.join).reset_index()\n",
    "\n",
    "  # calculate number of writings for each user\n",
    "  number_of_writings_df = grouped_by_subject_id['Text'].apply(lambda x: len(x)).reset_index()\n",
    "  number_of_writings_df.rename(columns={'Text': 'NumOfWritings'}, inplace=True)\n",
    "\n",
    "  result_df = average_length_df.merge(joined_text_df, on=\"TrainSubjectId\")\n",
    "  result_df = result_df.merge(number_of_writings_df, on=\"TrainSubjectId\")\n",
    "  result_df[\"Label\"] = label\n",
    "\n",
    "  return result_df"
   ]
  },
  {
   "cell_type": "code",
   "execution_count": 266,
   "metadata": {},
   "outputs": [],
   "source": [
    "# construct liwc input for positive and negative dataframe\n",
    "input_positives = construct_liwc_input(positives, 1)\n",
    "input_negatives = construct_liwc_input(negatives, 0)"
   ]
  },
  {
   "cell_type": "code",
   "execution_count": 267,
   "metadata": {},
   "outputs": [],
   "source": [
    "#concatenate two dataframe and shuffle\n",
    "liwc_input = pd.concat([input_positives, input_negatives])\n",
    "liwc_input = liwc_input.sample(frac=1).reset_index(drop=True)"
   ]
  },
  {
   "cell_type": "code",
   "execution_count": 268,
   "metadata": {},
   "outputs": [
    {
     "data": {
      "text/html": [
       "<div>\n",
       "<style scoped>\n",
       "    .dataframe tbody tr th:only-of-type {\n",
       "        vertical-align: middle;\n",
       "    }\n",
       "\n",
       "    .dataframe tbody tr th {\n",
       "        vertical-align: top;\n",
       "    }\n",
       "\n",
       "    .dataframe thead th {\n",
       "        text-align: right;\n",
       "    }\n",
       "</style>\n",
       "<table border=\"1\" class=\"dataframe\">\n",
       "  <thead>\n",
       "    <tr style=\"text-align: right;\">\n",
       "      <th></th>\n",
       "      <th>TrainSubjectId</th>\n",
       "      <th>AverageLength</th>\n",
       "      <th>text</th>\n",
       "      <th>NumOfWritings</th>\n",
       "      <th>Label</th>\n",
       "    </tr>\n",
       "  </thead>\n",
       "  <tbody>\n",
       "    <tr>\n",
       "      <th>0</th>\n",
       "      <td>train_subject6828</td>\n",
       "      <td>20.122711</td>\n",
       "      <td>Have you seen Bloodline? That first season is...</td>\n",
       "      <td>1092</td>\n",
       "      <td>0</td>\n",
       "    </tr>\n",
       "    <tr>\n",
       "      <th>1</th>\n",
       "      <td>train_subject8603</td>\n",
       "      <td>21.882812</td>\n",
       "      <td>I met KC Green about 5 years ago and asked ...</td>\n",
       "      <td>256</td>\n",
       "      <td>0</td>\n",
       "    </tr>\n",
       "    <tr>\n",
       "      <th>2</th>\n",
       "      <td>train_subject5173</td>\n",
       "      <td>28.108974</td>\n",
       "      <td>Thanks for sharing and I can imagine that! Es...</td>\n",
       "      <td>156</td>\n",
       "      <td>0</td>\n",
       "    </tr>\n",
       "    <tr>\n",
       "      <th>3</th>\n",
       "      <td>train_subject1637</td>\n",
       "      <td>32.000000</td>\n",
       "      <td>Like sliggoo? Common guys it's not fat green ...</td>\n",
       "      <td>12</td>\n",
       "      <td>1</td>\n",
       "    </tr>\n",
       "    <tr>\n",
       "      <th>4</th>\n",
       "      <td>train_subject2006</td>\n",
       "      <td>67.378981</td>\n",
       "      <td>I'm in enthusiastic agreement with you      O...</td>\n",
       "      <td>314</td>\n",
       "      <td>0</td>\n",
       "    </tr>\n",
       "    <tr>\n",
       "      <th>...</th>\n",
       "      <td>...</td>\n",
       "      <td>...</td>\n",
       "      <td>...</td>\n",
       "      <td>...</td>\n",
       "      <td>...</td>\n",
       "    </tr>\n",
       "    <tr>\n",
       "      <th>481</th>\n",
       "      <td>train_subject634</td>\n",
       "      <td>35.316327</td>\n",
       "      <td>He got 2nd place in Evo 2012 too :(  Gamerbee...</td>\n",
       "      <td>98</td>\n",
       "      <td>0</td>\n",
       "    </tr>\n",
       "    <tr>\n",
       "      <th>482</th>\n",
       "      <td>train_subject5276</td>\n",
       "      <td>21.626087</td>\n",
       "      <td>also i need a name for the disputed territory...</td>\n",
       "      <td>230</td>\n",
       "      <td>0</td>\n",
       "    </tr>\n",
       "    <tr>\n",
       "      <th>483</th>\n",
       "      <td>train_subject138</td>\n",
       "      <td>32.602005</td>\n",
       "      <td>The boozing starts from 7am. Though large a...</td>\n",
       "      <td>1995</td>\n",
       "      <td>0</td>\n",
       "    </tr>\n",
       "    <tr>\n",
       "      <th>484</th>\n",
       "      <td>train_subject3364</td>\n",
       "      <td>37.688525</td>\n",
       "      <td>Cat.       Thank you for watching out for the...</td>\n",
       "      <td>122</td>\n",
       "      <td>1</td>\n",
       "    </tr>\n",
       "    <tr>\n",
       "      <th>485</th>\n",
       "      <td>train_subject1485</td>\n",
       "      <td>28.273637</td>\n",
       "      <td>Suspend Hope Solo Immediately     Chronicle...</td>\n",
       "      <td>1999</td>\n",
       "      <td>0</td>\n",
       "    </tr>\n",
       "  </tbody>\n",
       "</table>\n",
       "<p>486 rows × 5 columns</p>\n",
       "</div>"
      ],
      "text/plain": [
       "        TrainSubjectId  AverageLength  \\\n",
       "0    train_subject6828      20.122711   \n",
       "1    train_subject8603      21.882812   \n",
       "2    train_subject5173      28.108974   \n",
       "3    train_subject1637      32.000000   \n",
       "4    train_subject2006      67.378981   \n",
       "..                 ...            ...   \n",
       "481   train_subject634      35.316327   \n",
       "482  train_subject5276      21.626087   \n",
       "483   train_subject138      32.602005   \n",
       "484  train_subject3364      37.688525   \n",
       "485  train_subject1485      28.273637   \n",
       "\n",
       "                                                  text  NumOfWritings  Label  \n",
       "0     Have you seen Bloodline? That first season is...           1092      0  \n",
       "1       I met KC Green about 5 years ago and asked ...            256      0  \n",
       "2     Thanks for sharing and I can imagine that! Es...            156      0  \n",
       "3     Like sliggoo? Common guys it's not fat green ...             12      1  \n",
       "4     I'm in enthusiastic agreement with you      O...            314      0  \n",
       "..                                                 ...            ...    ...  \n",
       "481   He got 2nd place in Evo 2012 too :(  Gamerbee...             98      0  \n",
       "482   also i need a name for the disputed territory...            230      0  \n",
       "483     The boozing starts from 7am. Though large a...           1995      0  \n",
       "484   Cat.       Thank you for watching out for the...            122      1  \n",
       "485     Suspend Hope Solo Immediately     Chronicle...           1999      0  \n",
       "\n",
       "[486 rows x 5 columns]"
      ]
     },
     "execution_count": 268,
     "metadata": {},
     "output_type": "execute_result"
    }
   ],
   "source": [
    "liwc_input"
   ]
  },
  {
   "cell_type": "markdown",
   "metadata": {},
   "source": [
    "### LIWC Features"
   ]
  },
  {
   "cell_type": "code",
   "execution_count": 269,
   "metadata": {},
   "outputs": [],
   "source": [
    "# Load LIWC dictionary\n",
    "liwc = Liwc(os.path.join(HOME_DIR, \"master_thesis/LIWC2007_English100131.dic\"))\n",
    "input = [liwc.parse(word_tokenize(text)) for text in liwc_input['text']]"
   ]
  },
  {
   "cell_type": "code",
   "execution_count": 271,
   "metadata": {},
   "outputs": [],
   "source": [
    "# Add AverageLength and NumOfWritings to the vector\n",
    "def add_to_counter(counter, key, value):\n",
    "    counter[key] = value\n",
    "    return counter\n",
    "\n",
    "# Get features\n",
    "def get_features(df, output):\n",
    "    df['vector'] = output\n",
    "    average_length = df['AverageLength']\n",
    "    num_of_writings = df['NumOfWritings']\n",
    "    vector = df['vector']\n",
    "    for i in range(len(vector)):\n",
    "        vector[i] = add_to_counter(vector[i], \"AverageLength\", average_length[i])\n",
    "        vector[i] = add_to_counter(vector[i], \"NumOfWritings\", num_of_writings[i])\n",
    "    df['vector_added'] = vector\n",
    "    vector_df = pd.DataFrame(df['vector_added'].tolist(), index=df.index)\n",
    "    vector_df_norm = (vector_df - vector_df.min()) / (vector_df.max() - vector_df.min())\n",
    "    vector_df_norm['Label'] = df['Label']\n",
    "    vector_df_norm['TrainSubjectId'] = df['TrainSubjectId']\n",
    "    vector_df_norm = vector_df_norm.fillna(0)\n",
    "    corr = vector_df_norm.corr()\n",
    "    corr_label = corr['Label'].sort_values(ascending=False)\n",
    "    relevant_features = corr_label[1:25]\n",
    "    relevant_features_name = relevant_features.index.values\n",
    "    X = vector_df_norm[relevant_features_name]\n",
    "    y = vector_df_norm['Label']\n",
    "    return X, y\n"
   ]
  },
  {
   "cell_type": "code",
   "execution_count": 272,
   "metadata": {},
   "outputs": [
    {
     "name": "stderr",
     "output_type": "stream",
     "text": [
      "/tmp/ipykernel_100870/3541103378.py:13: SettingWithCopyWarning: \n",
      "A value is trying to be set on a copy of a slice from a DataFrame\n",
      "\n",
      "See the caveats in the documentation: https://pandas.pydata.org/pandas-docs/stable/user_guide/indexing.html#returning-a-view-versus-a-copy\n",
      "  vector[i] = add_to_counter(vector[i], \"AverageLength\", average_length[i])\n",
      "/tmp/ipykernel_100870/3541103378.py:14: SettingWithCopyWarning: \n",
      "A value is trying to be set on a copy of a slice from a DataFrame\n",
      "\n",
      "See the caveats in the documentation: https://pandas.pydata.org/pandas-docs/stable/user_guide/indexing.html#returning-a-view-versus-a-copy\n",
      "  vector[i] = add_to_counter(vector[i], \"NumOfWritings\", num_of_writings[i])\n"
     ]
    }
   ],
   "source": [
    "X_liwc, y_liwc = get_features(liwc_input, op)"
   ]
  },
  {
   "cell_type": "markdown",
   "metadata": {},
   "source": [
    "### LIWC-alike"
   ]
  },
  {
   "cell_type": "code",
   "execution_count": 273,
   "metadata": {},
   "outputs": [],
   "source": [
    "%run /home_remote/master_thesis/model_evaluation/liwc_alike.py"
   ]
  },
  {
   "cell_type": "code",
   "execution_count": 274,
   "metadata": {},
   "outputs": [],
   "source": [
    "liwc_alike_output = [main(text, result) for text in liwc_input['text']]\n"
   ]
  },
  {
   "cell_type": "code",
   "execution_count": 275,
   "metadata": {},
   "outputs": [
    {
     "name": "stderr",
     "output_type": "stream",
     "text": [
      "/tmp/ipykernel_100870/3541103378.py:13: SettingWithCopyWarning: \n",
      "A value is trying to be set on a copy of a slice from a DataFrame\n",
      "\n",
      "See the caveats in the documentation: https://pandas.pydata.org/pandas-docs/stable/user_guide/indexing.html#returning-a-view-versus-a-copy\n",
      "  vector[i] = add_to_counter(vector[i], \"AverageLength\", average_length[i])\n",
      "/tmp/ipykernel_100870/3541103378.py:14: SettingWithCopyWarning: \n",
      "A value is trying to be set on a copy of a slice from a DataFrame\n",
      "\n",
      "See the caveats in the documentation: https://pandas.pydata.org/pandas-docs/stable/user_guide/indexing.html#returning-a-view-versus-a-copy\n",
      "  vector[i] = add_to_counter(vector[i], \"NumOfWritings\", num_of_writings[i])\n"
     ]
    }
   ],
   "source": [
    "X_liwc_alike, y_liwc_alike = get_features(liwc_input, liwc_alike_output)\n"
   ]
  },
  {
   "cell_type": "markdown",
   "metadata": {},
   "source": [
    "## Models"
   ]
  },
  {
   "cell_type": "code",
   "execution_count": 277,
   "metadata": {},
   "outputs": [],
   "source": [
    "def logistic_regression(X, y):\n",
    "\n",
    "    w = [1, 2**1, 2**2, 2**3, 2**4, 2**5, 2**6,2**7, 2**8]\n",
    "    weight = [{0: 1/(1+x),  1: x/(1+x)} for x in w]\n",
    "    C = [2**-6, 2**-5, 2**-4, 2**-3, 2**-2, 2**-1, 1, 2**1, 2**2, 2**3, 2**4, 2**5, 2**6]\n",
    "    # define grid search\n",
    "    hyperparam_grid = {\"class_weight\": weight\n",
    "                    ,\"penalty\": [\"l1\", \"l2\"]\n",
    "                    ,\"C\": C\n",
    "                    ,\"fit_intercept\": [True, False]  }\n",
    "    # define evaluation procedure\n",
    "    cv = KFold(n_splits=10, shuffle=True, random_state=13)\n",
    "    # define grid search\n",
    "    model_test = LogisticRegression(solver='liblinear')\n",
    "    grid = GridSearchCV(estimator=model_test, param_grid=hyperparam_grid, cv=cv, scoring='roc_auc')\n",
    "    grid_result = grid.fit(X, y)\n",
    "    # summarize results\n",
    "    print(\"Best: %f using %s\" % (grid_result.best_score_, grid_result.best_params_))\n",
    "\n",
    "    #build a model with the best parameters, fix class_weight = (0.2, 0.8)\n",
    "\n",
    "    model = LogisticRegression(**grid_result.best_params_)\n",
    "    model.fit(X, y)\n",
    "    return model"
   ]
  },
  {
   "cell_type": "code",
   "execution_count": null,
   "metadata": {},
   "outputs": [],
   "source": []
  }
 ],
 "metadata": {
  "kernelspec": {
   "display_name": "Python 3 (ipykernel)",
   "language": "python",
   "name": "python3"
  },
  "language_info": {
   "codemirror_mode": {
    "name": "ipython",
    "version": 3
   },
   "file_extension": ".py",
   "mimetype": "text/x-python",
   "name": "python",
   "nbconvert_exporter": "python",
   "pygments_lexer": "ipython3",
   "version": "3.8.10"
  }
 },
 "nbformat": 4,
 "nbformat_minor": 2
}
