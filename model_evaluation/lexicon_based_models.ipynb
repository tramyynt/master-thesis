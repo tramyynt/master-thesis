{
 "cells": [
  {
   "cell_type": "code",
   "execution_count": 169,
   "metadata": {},
   "outputs": [],
   "source": [
    "HOME_DIR = \"/home_remote\"\n",
    "HOME = \"/home/thi.tra.my.nguyen\"\n",
    "\n",
    "from liwc import Liwc\n",
    "import os\n",
    "import pandas as pd\n",
    "import numpy as np\n",
    "import seaborn as sns\n",
    "import matplotlib.pyplot as plt\n",
    "from nltk import word_tokenize, ngrams\n",
    "from sklearn.ensemble import RandomForestClassifier\n",
    "import pickle\n",
    "from sklearn.metrics import classification_report, confusion_matrix, accuracy_score\n",
    "from sklearn.model_selection import KFold, cross_val_score, train_test_split\n",
    "from sklearn.model_selection import GridSearchCV\n",
    "#import logisitic_regression\n",
    "from sklearn.linear_model import LogisticRegression\n",
    "import matplotlib.pyplot as plt\n",
    "import seaborn as sns\n",
    "import joblib\n",
    "from sklearn.metrics import accuracy_score, precision_score, recall_score, f1_score"
   ]
  },
  {
   "cell_type": "code",
   "execution_count": 469,
   "metadata": {},
   "outputs": [],
   "source": [
    "pd.options.mode.chained_assignment = None"
   ]
  },
  {
   "cell_type": "markdown",
   "metadata": {},
   "source": [
    "### Data preparation"
   ]
  },
  {
   "cell_type": "code",
   "execution_count": 238,
   "metadata": {},
   "outputs": [],
   "source": [
    "positives_df_path = os.path.join(HOME_DIR, \"positive_df.pkl\")\n",
    "negatives_df_path = os.path.join(HOME_DIR, \"negative_df.pkl\")\n",
    "\n",
    "positives = pd.read_pickle(positives_df_path)\n",
    "negatives = pd.read_pickle(negatives_df_path)"
   ]
  },
  {
   "cell_type": "code",
   "execution_count": 2,
   "metadata": {},
   "outputs": [],
   "source": [
    "def construct_liwc_input(df, label):\n",
    "  \"\"\"\n",
    "  params: df - The positive/negative dataframe loaded from pickle\n",
    "    The df is expected to has these columns \"Title\", \"Date\", \"Text\", \"SubjectId\"\n",
    "  params: label - The label need to be assigned to result dataframe\n",
    "\n",
    "  returns: A dataframe contains \"SubjectId\", \"AverageLength\", \"Text\", \"NumOfWritings\", \"Title\"\n",
    "  \"\"\"\n",
    "  subject_id_list = df.loc[:, \"TrainSubjectId\"].unique()\n",
    "\n",
    "  df['text'] = df['Text']+ df['Title']\n",
    "  \n",
    "  df[\"Token\"] = df[\"text\"].apply(lambda x: word_tokenize(x))\n",
    "  grouped_by_subject_id = df.groupby('TrainSubjectId')\n",
    "\n",
    "  # calculate average token length for each user\n",
    "  average_length_df = grouped_by_subject_id['Token'].apply(lambda token_series: sum(len(token) for token in token_series) / len(token_series)).reset_index()\n",
    "  average_length_df.rename(columns={'Token': 'AverageLength'}, inplace=True)\n",
    "  #print(average_length_df.head())\n",
    "\n",
    "  # join all writings of single user into single corpus\n",
    "  joined_text_df = grouped_by_subject_id['text'].apply(' '.join).reset_index()\n",
    "\n",
    "  # calculate number of writings for each user\n",
    "  number_of_writings_df = grouped_by_subject_id['Text'].apply(lambda x: len(x)).reset_index()\n",
    "  number_of_writings_df.rename(columns={'Text': 'NumOfWritings'}, inplace=True)\n",
    "\n",
    "  result_df = average_length_df.merge(joined_text_df, on=\"TrainSubjectId\")\n",
    "  result_df = result_df.merge(number_of_writings_df, on=\"TrainSubjectId\")\n",
    "  result_df[\"Label\"] = label\n",
    "\n",
    "  return result_df"
   ]
  },
  {
   "cell_type": "code",
   "execution_count": 5,
   "metadata": {},
   "outputs": [],
   "source": [
    "input_positives = construct_liwc_input(positives, 1)\n",
    "input_negatives = construct_liwc_input(negatives, 0)"
   ]
  },
  {
   "cell_type": "code",
   "execution_count": 6,
   "metadata": {},
   "outputs": [],
   "source": [
    "liwc_input = pd.concat([input_positives, input_negatives])\n",
    "liwc_input = liwc_input.sample(frac=1).reset_index(drop=True)"
   ]
  },
  {
   "cell_type": "code",
   "execution_count": 228,
   "metadata": {},
   "outputs": [],
   "source": [
    "data_input = liwc_input[['TrainSubjectId', 'Label', 'text']]"
   ]
  },
  {
   "cell_type": "markdown",
   "metadata": {},
   "source": [
    "### Hand-crafted features"
   ]
  },
  {
   "cell_type": "code",
   "execution_count": 221,
   "metadata": {},
   "outputs": [
    {
     "name": "stdout",
     "output_type": "stream",
     "text": [
      "Defaulting to user installation because normal site-packages is not writeable\n",
      "Collecting textstat\n",
      "  Downloading textstat-0.7.3-py3-none-any.whl (105 kB)\n",
      "\u001b[2K     \u001b[90m━━━━━━━━━━━━━━━━━━━━━━━━━━━━━━━━━━━━━━━\u001b[0m \u001b[32m105.1/105.1 kB\u001b[0m \u001b[31m3.4 MB/s\u001b[0m eta \u001b[36m0:00:00\u001b[0m\n",
      "\u001b[?25hCollecting pyphen (from textstat)\n",
      "  Downloading pyphen-0.14.0-py3-none-any.whl (2.0 MB)\n",
      "\u001b[2K     \u001b[90m━━━━━━━━━━━━━━━━━━━━━━━━━━━━━━━━━━━━━━━━\u001b[0m \u001b[32m2.0/2.0 MB\u001b[0m \u001b[31m30.7 MB/s\u001b[0m eta \u001b[36m0:00:00\u001b[0m00:01\u001b[0m\n",
      "\u001b[?25hInstalling collected packages: pyphen, textstat\n",
      "Successfully installed pyphen-0.14.0 textstat-0.7.3\n",
      "Note: you may need to restart the kernel to use updated packages.\n"
     ]
    }
   ],
   "source": [
    "pip install textstat"
   ]
  },
  {
   "cell_type": "code",
   "execution_count": 225,
   "metadata": {},
   "outputs": [],
   "source": [
    "import textstat"
   ]
  },
  {
   "cell_type": "code",
   "execution_count": 293,
   "metadata": {},
   "outputs": [],
   "source": [
    "#positives['text'] = positives['Text']+ positives['Title']\n",
    "  \n",
    "positives[\"Token\"] = positives[\"Text\"].apply(lambda x: word_tokenize(x))\n",
    "positives[\"LWF\"] = positives['Text'].apply(lambda x: textstat.linsear_write_formula(x))\n",
    "positives[\"FRE\"] = positives['Text'].apply(lambda x: textstat.flesch_reading_ease(x))\n",
    "positives[\"DCR\"] = positives['Text'].apply(lambda x: textstat.dale_chall_readability_score(x))\n",
    "positives[\"FOG\"] = positives['Text'].apply(lambda x: textstat.gunning_fog(x))\n",
    "#positives[\"ARI\"] = positives['text'].apply(lambda x: textstat.automated_readability_index(x))\n",
    "#positives[\"SMOG\"] = positives['text'].apply(lambda x: textstat.smog_index(x))\n",
    "positives[\"AVG_SEN\"] = positives['Text'].apply(lambda x:  textstat.avg_sentence_length(x))\n",
    "positives[\"AVG_PER_WORD\"] = positives['Text'].apply(lambda x:  textstat.avg_letter_per_word(x))"
   ]
  },
  {
   "cell_type": "code",
   "execution_count": 294,
   "metadata": {},
   "outputs": [],
   "source": [
    "#negatives['text'] = negatives['Text']+ negatives['Title']\n",
    "negatives[\"Token\"] = negatives[\"Text\"].apply(lambda x: word_tokenize(x))\n",
    "negatives[\"LWF\"] = negatives['Text'].apply(lambda x: textstat.linsear_write_formula(x))\n",
    "negatives[\"FRE\"] = negatives['Text'].apply(lambda x: textstat.flesch_reading_ease(x))\n",
    "negatives[\"DCR\"] = negatives['Text'].apply(lambda x: textstat.dale_chall_readability_score(x))\n",
    "negatives[\"FOG\"] = negatives['Text'].apply(lambda x: textstat.gunning_fog(x))\n",
    "negatives[\"AVG_SEN\"] = negatives['Text'].apply(lambda x:  textstat.avg_sentence_length(x))\n",
    "negatives[\"AVG_PER_WORD\"] = negatives['Text'].apply(lambda x:  textstat.avg_letter_per_word(x))\n"
   ]
  },
  {
   "cell_type": "code",
   "execution_count": 295,
   "metadata": {},
   "outputs": [],
   "source": [
    "positives_mean = positives.groupby('TrainSubjectId').agg({'LWF': 'mean', 'FRE': 'mean', 'DCR': 'mean', 'FOG': 'mean','AVG_SEN':'mean', 'AVG_PER_WORD': 'mean'}).reset_index()\n",
    "negatives_mean = negatives.groupby('TrainSubjectId').agg({'LWF': 'mean', 'FRE': 'mean', 'DCR': 'mean', 'FOG': 'mean','AVG_SEN':'mean', 'AVG_PER_WORD':'mean'}).reset_index()\n",
    "positives_mean['Label'] = 1\n",
    "negatives_mean['Label'] = 0\n",
    "#concat\n",
    "handcrafted = pd.concat([positives_mean, negatives_mean])"
   ]
  },
  {
   "cell_type": "code",
   "execution_count": 325,
   "metadata": {},
   "outputs": [
    {
     "data": {
      "image/png": "[encoded data removed]",
      "text/plain": [
       "<Figure size 2160x1080 with 6 Axes>"
      ]
     },
     "metadata": {
      "needs_background": "light"
     },
     "output_type": "display_data"
    }
   ],
   "source": [
    "#boxplot for each feature in positives_mean and negatives_mean in the same figure\n",
    "fig = plt.figure(figsize=(30,15))\n",
    "plt.subplot(2,3,1)\n",
    "sns.boxplot(x='Label', y='LWF', data=handcrafted)\n",
    "plt.title('Average LWF score for depressed and non-depressed users', fontsize=15)\n",
    "#set label for x is none\n",
    "plt.xlabel(None)\n",
    "#change size of y label\n",
    "plt.ylabel('LWF', fontsize=15)\n",
    "#change size of x axis\n",
    "plt.xticks(fontsize=15)\n",
    "plt.yticks(fontsize=15)\n",
    "plt.subplot(2,3,2)\n",
    "#change limit of y axis\n",
    "plt.ylim(0, 200)\n",
    "sns.boxplot(x='Label', y='FRE', data=handcrafted)\n",
    "plt.title('Average FRE score for depressed and non-depressed users', fontsize=15)\n",
    "#set label for x is none\n",
    "plt.xlabel(None)\n",
    "#change size of y label\n",
    "plt.ylabel('FRE', fontsize=15)\n",
    "#change size of x axis\n",
    "plt.xticks(fontsize=15)\n",
    "plt.yticks(fontsize=15)\n",
    "\n",
    "#change values of x axis 1: depressed, 0: non-depressed\n",
    "\n",
    "plt.subplot(2,3,3)\n",
    "sns.boxplot(x='Label', y='DCR', data=handcrafted)\n",
    "plt.title('Average DCR score for depressed and non-depressed users', fontsize=15)\n",
    "#set label for x is none\n",
    "plt.xlabel(None)\n",
    "#change size of y label\n",
    "plt.ylabel('DCR', fontsize=15)\n",
    "#change size of x axis\n",
    "plt.xticks(fontsize=15)\n",
    "plt.yticks(fontsize=15)\n",
    "plt.subplot(2,3,4)\n",
    "sns.boxplot(x='Label', y='FOG', data=handcrafted)\n",
    "plt.title('Average FOG score for depressed and non-depressed users', fontsize=15)\n",
    "#set label for x is none\n",
    "plt.xlabel(None)\n",
    "#change size of y label\n",
    "plt.ylabel('FOG', fontsize=15)\n",
    "#change size of x axis\n",
    "plt.xticks(fontsize=15)\n",
    "plt.yticks(fontsize=15)\n",
    "plt.subplot(2,3,5)\n",
    "sns.boxplot(x='Label', y='AVG_SEN', data=handcrafted)\n",
    "plt.title('Average sentence length for depressed and non-depressed users', fontsize=15)\n",
    "\n",
    "#set label for x is none\n",
    "plt.xlabel(None)\n",
    "#change size of y label\n",
    "plt.ylabel('AVG_SEN', fontsize=15)\n",
    "#change size of x axis\n",
    "plt.xticks(fontsize=15)\n",
    "plt.yticks(fontsize=15)\n",
    "plt.subplot(2,3,6)\n",
    "#change limit of y axis\n",
    "plt.ylim(0, 10)\n",
    "sns.boxplot(x='Label', y='AVG_PER_WORD', data=handcrafted)\n",
    "plt.title('Average number of letters per word for depressed and non-depressed users', fontsize=15)\n",
    "#set label for x is none\n",
    "plt.xlabel(None)\n",
    "#change size of y label\n",
    "plt.ylabel('AVG_PER_WORD', fontsize=15)\n",
    "#change size of x axis\n",
    "plt.xticks(fontsize=15)\n",
    "plt.yticks(fontsize=15)\n",
    "\n",
    "#legend for the whole figure. 2 columns, 1 row\n",
    "fig.legend(labels=['Non-depressed', 'Depressed'], loc='upper center', ncol=2, fontsize=15)\n",
    "\n",
    "#save figure\n",
    "plt.savefig(os.path.join(HOME_DIR, \"handcrafted_features.pdf\"), bbox_inches='tight')"
   ]
  },
  {
   "cell_type": "markdown",
   "metadata": {},
   "source": [
    "### test on other features"
   ]
  },
  {
   "cell_type": "code",
   "execution_count": 396,
   "metadata": {},
   "outputs": [],
   "source": [
    "#bi-gram features for data input\n",
    "def get_ngrams(text, n):\n",
    "  n_grams = ngrams(word_tokenize(text), n)\n",
    "  return [ ' '.join(grams) for grams in n_grams]\n",
    "bigram =[ get_ngrams(i, 2) for i in data_input['text']]"
   ]
  },
  {
   "cell_type": "code",
   "execution_count": 398,
   "metadata": {},
   "outputs": [],
   "source": [
    "#count frequency of phase 'my depression' in each user\n",
    "my_depression = []\n",
    "for i in bigram:\n",
    "  count = 0\n",
    "  for j in i:\n",
    "    if j == 'my depression':\n",
    "      count += 1\n",
    "  my_depression.append(count)"
   ]
  },
  {
   "cell_type": "code",
   "execution_count": 403,
   "metadata": {},
   "outputs": [],
   "source": [
    "#count frequency of phase 'my anxiety' in each user\n",
    "my_anxiety = []\n",
    "for i in bigram:\n",
    "  count = 0\n",
    "  for j in i:\n",
    "    if j == 'my anxiety':\n",
    "      count += 1\n",
    "  my_anxiety.append(count)"
   ]
  },
  {
   "cell_type": "code",
   "execution_count": 542,
   "metadata": {},
   "outputs": [],
   "source": [
    "X_alike_handcrafted['Depression'] = my_depression\n",
    "X_alike_handcrafted['My Anxiety'] = my_anxiety"
   ]
  },
  {
   "cell_type": "code",
   "execution_count": 543,
   "metadata": {},
   "outputs": [],
   "source": [
    "X_handcrafted['Depression'] = my_depression\n",
    "X_handcrafted['My Anxiety'] = my_anxiety"
   ]
  },
  {
   "cell_type": "code",
   "execution_count": 461,
   "metadata": {},
   "outputs": [],
   "source": [
    "#unigram\n",
    "unigram =[ get_ngrams(i, 1) for i in data_input['text']]\n",
    "#count frequency of word 'I' in each user\n",
    "count_i = []\n",
    "for i in unigram:\n",
    "  count = 0\n",
    "  for j in i:\n",
    "    if j == 'I':\n",
    "      count += 1\n",
    "  count_i.append(count)"
   ]
  },
  {
   "cell_type": "code",
   "execution_count": 535,
   "metadata": {},
   "outputs": [],
   "source": [
    "X_alike_handcrafted['word_I'] = count_i\n",
    "X_handcrafted['word_I'] = count_i"
   ]
  },
  {
   "cell_type": "markdown",
   "metadata": {},
   "source": [
    "### Including hand-crafted features"
   ]
  },
  {
   "cell_type": "code",
   "execution_count": 561,
   "metadata": {},
   "outputs": [],
   "source": [
    "\n",
    "def construct_liwc_input_crafted(df, label):\n",
    "  \"\"\"\n",
    "  params: df - The positive/negative dataframe loaded from pickle\n",
    "    The df is expected to has these columns \"Title\", \"Date\", \"Text\", \"SubjectId\"\n",
    "  params: label - The label need to be assigned to result dataframe\n",
    "\n",
    "  returns: A dataframe contains \"SubjectId\", \"AverageLength\", \"Text\", \"NumOfWritings\", \"Title\"\n",
    "  \"\"\"\n",
    "  subject_id_list = df.loc[:, \"TrainSubjectId\"].unique()\n",
    "\n",
    "  df['text'] = df['Text']+ df['Title']\n",
    "  df['Token'] = df['text'].apply(lambda x: word_tokenize(x))\n",
    "  df['AVG_SEN'] = df['text'].apply(lambda x:  textstat.avg_sentence_length(x))\n",
    "  df['AVG_PER_WORD'] = df['text'].apply(lambda x:  textstat.avg_letter_per_word(x))\n",
    "  df['LWF'] = df['text'].apply(lambda x: textstat.linsear_write_formula(x))\n",
    "  df['FRE'] = df['text'].apply(lambda x: textstat.flesch_reading_ease(x))\n",
    "  df['DCR'] = df['text'].apply(lambda x: textstat.dale_chall_readability_score(x))\n",
    "  df['FOG'] = df['text'].apply(lambda x: textstat.gunning_fog(x))\n",
    "  \n",
    "  result_df = df.groupby('TrainSubjectId').agg({'LWF': 'mean', 'FRE': 'mean', 'DCR': 'mean', 'FOG': 'mean','AVG_SEN':'mean', 'AVG_PER_WORD': 'mean', 'Text':'count'}).reset_index()\n",
    "  result_df[\"Label\"] = label\n",
    " \n",
    "  #join text per user\n",
    "  joined_text_df = df.groupby('TrainSubjectId')['text'].apply(' '.join).reset_index()\n",
    "  result_df = result_df.merge(joined_text_df, on=\"TrainSubjectId\")\n",
    "\n",
    "  # number_of_writings_df = df.groupby('TrainSubjectId')['Text'].apply(lambda x: len(x)).reset_index()\n",
    "  result_df.rename(columns={'Text': 'NumOfWritings'}, inplace=True)\n",
    "\n",
    "  # #merge number of writings and result_df on trainSubjectId\n",
    "  # result_df_final = result_df.merge(number_of_writings_df, on=\"TrainSubjectId\")\n",
    "  \n",
    "  return result_df"
   ]
  },
  {
   "cell_type": "code",
   "execution_count": 562,
   "metadata": {},
   "outputs": [],
   "source": [
    "p = construct_liwc_input_crafted(positives, 1)"
   ]
  },
  {
   "cell_type": "code",
   "execution_count": 563,
   "metadata": {},
   "outputs": [
    {
     "data": {
      "text/html": [
       "<div>\n",
       "<style scoped>\n",
       "    .dataframe tbody tr th:only-of-type {\n",
       "        vertical-align: middle;\n",
       "    }\n",
       "\n",
       "    .dataframe tbody tr th {\n",
       "        vertical-align: top;\n",
       "    }\n",
       "\n",
       "    .dataframe thead th {\n",
       "        text-align: right;\n",
       "    }\n",
       "</style>\n",
       "<table border=\"1\" class=\"dataframe\">\n",
       "  <thead>\n",
       "    <tr style=\"text-align: right;\">\n",
       "      <th></th>\n",
       "      <th>TrainSubjectId</th>\n",
       "      <th>LWF</th>\n",
       "      <th>FRE</th>\n",
       "      <th>DCR</th>\n",
       "      <th>FOG</th>\n",
       "      <th>AVG_SEN</th>\n",
       "      <th>AVG_PER_WORD</th>\n",
       "      <th>NumOfWritings</th>\n",
       "      <th>Label</th>\n",
       "      <th>text</th>\n",
       "    </tr>\n",
       "  </thead>\n",
       "  <tbody>\n",
       "    <tr>\n",
       "      <th>0</th>\n",
       "      <td>train_subject1095</td>\n",
       "      <td>5.605148</td>\n",
       "      <td>81.937775</td>\n",
       "      <td>8.743571</td>\n",
       "      <td>6.619235</td>\n",
       "      <td>11.231310</td>\n",
       "      <td>4.257142</td>\n",
       "      <td>1137</td>\n",
       "      <td>1</td>\n",
       "      <td>The last line is pretty much the same as the ...</td>\n",
       "    </tr>\n",
       "    <tr>\n",
       "      <th>1</th>\n",
       "      <td>train_subject1190</td>\n",
       "      <td>6.429298</td>\n",
       "      <td>81.244512</td>\n",
       "      <td>8.249394</td>\n",
       "      <td>7.039798</td>\n",
       "      <td>12.715152</td>\n",
       "      <td>4.365589</td>\n",
       "      <td>297</td>\n",
       "      <td>1</td>\n",
       "      <td>I'm sure I'll get flamed for this, but true f...</td>\n",
       "    </tr>\n",
       "    <tr>\n",
       "      <th>2</th>\n",
       "      <td>train_subject1191</td>\n",
       "      <td>5.661012</td>\n",
       "      <td>85.571250</td>\n",
       "      <td>6.960000</td>\n",
       "      <td>6.644375</td>\n",
       "      <td>11.118750</td>\n",
       "      <td>4.029375</td>\n",
       "      <td>16</td>\n",
       "      <td>1</td>\n",
       "      <td>Hi Ruben! Happy Birthday!       I can't seem ...</td>\n",
       "    </tr>\n",
       "    <tr>\n",
       "      <th>3</th>\n",
       "      <td>train_subject1199</td>\n",
       "      <td>5.970310</td>\n",
       "      <td>44.049545</td>\n",
       "      <td>10.784286</td>\n",
       "      <td>8.234870</td>\n",
       "      <td>11.487662</td>\n",
       "      <td>6.780455</td>\n",
       "      <td>154</td>\n",
       "      <td>1</td>\n",
       "      <td>In the US, the Supreme Court has ruled that i...</td>\n",
       "    </tr>\n",
       "    <tr>\n",
       "      <th>4</th>\n",
       "      <td>train_subject1201</td>\n",
       "      <td>3.687641</td>\n",
       "      <td>82.959531</td>\n",
       "      <td>8.922881</td>\n",
       "      <td>5.444824</td>\n",
       "      <td>8.190787</td>\n",
       "      <td>4.620134</td>\n",
       "      <td>597</td>\n",
       "      <td>1</td>\n",
       "      <td>lol I do that on a regular basis. ;)      how...</td>\n",
       "    </tr>\n",
       "    <tr>\n",
       "      <th>...</th>\n",
       "      <td>...</td>\n",
       "      <td>...</td>\n",
       "      <td>...</td>\n",
       "      <td>...</td>\n",
       "      <td>...</td>\n",
       "      <td>...</td>\n",
       "      <td>...</td>\n",
       "      <td>...</td>\n",
       "      <td>...</td>\n",
       "      <td>...</td>\n",
       "    </tr>\n",
       "    <tr>\n",
       "      <th>78</th>\n",
       "      <td>train_subject9552</td>\n",
       "      <td>9.733333</td>\n",
       "      <td>68.410000</td>\n",
       "      <td>8.462963</td>\n",
       "      <td>9.752222</td>\n",
       "      <td>15.677778</td>\n",
       "      <td>4.591111</td>\n",
       "      <td>27</td>\n",
       "      <td>1</td>\n",
       "      <td>SpaceX. A company like that doesn't worry abo...</td>\n",
       "    </tr>\n",
       "    <tr>\n",
       "      <th>79</th>\n",
       "      <td>train_subject96</td>\n",
       "      <td>13.515000</td>\n",
       "      <td>72.994000</td>\n",
       "      <td>7.932000</td>\n",
       "      <td>12.128000</td>\n",
       "      <td>23.510000</td>\n",
       "      <td>4.144000</td>\n",
       "      <td>10</td>\n",
       "      <td>1</td>\n",
       "      <td>I'm pretty sure the definition is \"It's not s...</td>\n",
       "    </tr>\n",
       "    <tr>\n",
       "      <th>80</th>\n",
       "      <td>train_subject9683</td>\n",
       "      <td>6.177137</td>\n",
       "      <td>74.713783</td>\n",
       "      <td>11.440411</td>\n",
       "      <td>7.201026</td>\n",
       "      <td>12.087097</td>\n",
       "      <td>4.928094</td>\n",
       "      <td>341</td>\n",
       "      <td>1</td>\n",
       "      <td>Cavs trade 3 non-guaranteed deals, Dwight P...</td>\n",
       "    </tr>\n",
       "    <tr>\n",
       "      <th>81</th>\n",
       "      <td>train_subject9763</td>\n",
       "      <td>8.085502</td>\n",
       "      <td>83.437958</td>\n",
       "      <td>7.442465</td>\n",
       "      <td>7.967817</td>\n",
       "      <td>16.623944</td>\n",
       "      <td>4.056761</td>\n",
       "      <td>142</td>\n",
       "      <td>1</td>\n",
       "      <td>What's your best natural beauty \\n\\nThat amaz...</td>\n",
       "    </tr>\n",
       "    <tr>\n",
       "      <th>82</th>\n",
       "      <td>train_subject9951</td>\n",
       "      <td>6.666396</td>\n",
       "      <td>80.110753</td>\n",
       "      <td>7.203164</td>\n",
       "      <td>7.442514</td>\n",
       "      <td>12.864030</td>\n",
       "      <td>4.261902</td>\n",
       "      <td>1062</td>\n",
       "      <td>1</td>\n",
       "      <td>I think it's disgusting, I do not want people...</td>\n",
       "    </tr>\n",
       "  </tbody>\n",
       "</table>\n",
       "<p>83 rows × 10 columns</p>\n",
       "</div>"
      ],
      "text/plain": [
       "       TrainSubjectId        LWF        FRE        DCR        FOG    AVG_SEN  \\\n",
       "0   train_subject1095   5.605148  81.937775   8.743571   6.619235  11.231310   \n",
       "1   train_subject1190   6.429298  81.244512   8.249394   7.039798  12.715152   \n",
       "2   train_subject1191   5.661012  85.571250   6.960000   6.644375  11.118750   \n",
       "3   train_subject1199   5.970310  44.049545  10.784286   8.234870  11.487662   \n",
       "4   train_subject1201   3.687641  82.959531   8.922881   5.444824   8.190787   \n",
       "..                ...        ...        ...        ...        ...        ...   \n",
       "78  train_subject9552   9.733333  68.410000   8.462963   9.752222  15.677778   \n",
       "79    train_subject96  13.515000  72.994000   7.932000  12.128000  23.510000   \n",
       "80  train_subject9683   6.177137  74.713783  11.440411   7.201026  12.087097   \n",
       "81  train_subject9763   8.085502  83.437958   7.442465   7.967817  16.623944   \n",
       "82  train_subject9951   6.666396  80.110753   7.203164   7.442514  12.864030   \n",
       "\n",
       "    AVG_PER_WORD  NumOfWritings  Label  \\\n",
       "0       4.257142           1137      1   \n",
       "1       4.365589            297      1   \n",
       "2       4.029375             16      1   \n",
       "3       6.780455            154      1   \n",
       "4       4.620134            597      1   \n",
       "..           ...            ...    ...   \n",
       "78      4.591111             27      1   \n",
       "79      4.144000             10      1   \n",
       "80      4.928094            341      1   \n",
       "81      4.056761            142      1   \n",
       "82      4.261902           1062      1   \n",
       "\n",
       "                                                 text  \n",
       "0    The last line is pretty much the same as the ...  \n",
       "1    I'm sure I'll get flamed for this, but true f...  \n",
       "2    Hi Ruben! Happy Birthday!       I can't seem ...  \n",
       "3    In the US, the Supreme Court has ruled that i...  \n",
       "4    lol I do that on a regular basis. ;)      how...  \n",
       "..                                                ...  \n",
       "78   SpaceX. A company like that doesn't worry abo...  \n",
       "79   I'm pretty sure the definition is \"It's not s...  \n",
       "80     Cavs trade 3 non-guaranteed deals, Dwight P...  \n",
       "81   What's your best natural beauty \\n\\nThat amaz...  \n",
       "82   I think it's disgusting, I do not want people...  \n",
       "\n",
       "[83 rows x 10 columns]"
      ]
     },
     "execution_count": 563,
     "metadata": {},
     "output_type": "execute_result"
    }
   ],
   "source": [
    "p"
   ]
  },
  {
   "cell_type": "code",
   "execution_count": 330,
   "metadata": {},
   "outputs": [],
   "source": [
    "positives_crafted= construct_liwc_input_crafted(positives, 1)\n",
    "negatives_crafted = construct_liwc_input_crafted(negatives, 0)\n",
    "#concat\n",
    "df_handcrafted = pd.concat([positives_crafted, negatives_crafted])\n",
    "df_handcrafted = df_handcrafted.sample(frac=1).reset_index(drop=True)"
   ]
  },
  {
   "cell_type": "code",
   "execution_count": 332,
   "metadata": {},
   "outputs": [],
   "source": [
    "df_handcrafted.to_pickle(os.path.join(HOME_DIR, \"df_handcrafted.pkl\"))"
   ]
  },
  {
   "cell_type": "markdown",
   "metadata": {},
   "source": [
    "### Feature Extraction"
   ]
  },
  {
   "cell_type": "code",
   "execution_count": 8,
   "metadata": {},
   "outputs": [],
   "source": [
    "# Load LIWC dictionary\n",
    "liwc = Liwc(os.path.join(HOME_DIR, \"master_thesis/LIWC2007_English100131.dic\"))\n",
    "input = [liwc.parse(word_tokenize(text)) for text in data_input['text']]"
   ]
  },
  {
   "cell_type": "code",
   "execution_count": 9,
   "metadata": {},
   "outputs": [],
   "source": [
    "# Load LIWC-alike dictionary\n",
    "%run /home_remote/master_thesis/model_evaluation/liwc_alike.py\n",
    "liwc_alike_output = [main(text, result) for text in data_input['text']]"
   ]
  },
  {
   "cell_type": "code",
   "execution_count": 553,
   "metadata": {},
   "outputs": [],
   "source": [
    "#extract features and handcrafted features\n",
    "def get_features_crafted(df,output, type):\n",
    "    hand_crafted = ['LWF', 'FOG', 'FRE', 'DCR', 'AVG_SEN', 'AVG_PER_WORD']\n",
    "    relevant_features_name ={'liwc': ['i', 'friend', 'sad', 'family', 'feel', 'health',\n",
    "       'sexual', 'anx', 'body', 'bio', 'ppron', 'filler', 'shehe', 'adverb',\n",
    "       'swear', 'humans', 'excl', 'assent', 'discrep', 'you', 'pronoun',\n",
    "       'negemo', 'past'],\n",
    "                        'liwc_alike': ['Anxiety', 'I', 'Sadness', 'Affective Processes',\n",
    "       'Sexuality', 'Family', 'Friends', 'Fillers', 'Health', 'Feeling',\n",
    "       'Humans', 'Biological Processes', 'Time', 'Body', 'Negative Emotions',\n",
    "       'Social Processes', 'Perceptual Processes', 'Insight',\n",
    "       'Cognitive Processes', 'Motion', 'Positive Emotions', 'Tentative',\n",
    "       'Ppronouns']}\n",
    "    vector_df = pd.DataFrame(output, index=df.index)\n",
    "    #vector_df_norm = vector_df.div(vector_df.sum(axis=1), axis=0)\n",
    "    #vector_df_norm['Label'] = df['Label']\n",
    "    #vector_df_norm['TrainSubjectId'] = df['TrainSubjectId']\n",
    "    vector_df= vector_df.fillna(0)\n",
    "    #corr = vector_df_norm.corr()\n",
    "    #corr_label = corr['Label'].sort_values(ascending=False)\n",
    "    #relevant_features = corr_label[1:15]\n",
    "    #relevant_features_name = relevant_features.index.values\n",
    "    re = vector_df[relevant_features_name[type]]\n",
    "    for i in hand_crafted:\n",
    "        re[i] = df[i]\n",
    "    X = re\n",
    "    y = df['Label']\n",
    "    return X, y"
   ]
  },
  {
   "cell_type": "code",
   "execution_count": 533,
   "metadata": {},
   "outputs": [],
   "source": [
    "X_handcrafted, y_handcrafted = get_features_crafted(df_handcrafted, input, 'liwc')"
   ]
  },
  {
   "cell_type": "code",
   "execution_count": 534,
   "metadata": {},
   "outputs": [],
   "source": [
    "X_alike_handcrafted, y_alike_handcrafted = get_features_crafted(df_handcrafted, liwc_alike_output, 'liwc_alike')"
   ]
  },
  {
   "cell_type": "code",
   "execution_count": 342,
   "metadata": {},
   "outputs": [],
   "source": [
    "#extract top 15 features based on percentage. \n",
    "def get_features_top15(df, output):\n",
    "    #df['vector'] = output\n",
    "    vector_df = pd.DataFrame(output, index=df.index)\n",
    "    vector_df_norm = vector_df.div(vector_df.sum(axis=1), axis=0)\n",
    "    vector_df_norm['Label'] = df['Label']\n",
    "    vector_df_norm['TrainSubjectId'] = df['TrainSubjectId']\n",
    "    vector_df_norm = vector_df_norm.fillna(0)\n",
    "    corr = vector_df_norm.corr()\n",
    "    corr_label = corr['Label'].sort_values(ascending=False)\n",
    "    relevant_features = corr_label[1:40]\n",
    "    relevant_features_name = relevant_features.index.values\n",
    "    X = vector_df_norm[relevant_features_name]\n",
    "    y = vector_df_norm['Label']\n",
    "    return X, y"
   ]
  },
  {
   "cell_type": "code",
   "execution_count": 161,
   "metadata": {},
   "outputs": [],
   "source": [
    "X_liwc_alike_15, y_liwc_alike_15 = get_features_top15(data_input, liwc_alike_output)"
   ]
  },
  {
   "cell_type": "code",
   "execution_count": 206,
   "metadata": {},
   "outputs": [],
   "source": [
    "#using chi2 to extract top 15 features\n",
    "from sklearn.feature_selection import SelectKBest\n",
    "from sklearn.feature_selection import chi2\n",
    "def get_features_chi2(df, output):\n",
    "    vector_df = pd.DataFrame(output, index=df.index)\n",
    "    vector_df_norm = vector_df.div(vector_df.sum(axis=1), axis=0)\n",
    "    vector_df_norm['Label'] = df['Label']\n",
    "    vector_df_norm['TrainSubjectId'] = df['TrainSubjectId']\n",
    "    vector_df_norm = vector_df_norm.fillna(0)\n",
    "    X = vector_df_norm.drop(['Label', 'TrainSubjectId'], axis=1)\n",
    "    y = vector_df_norm['Label']\n",
    "    X_new = SelectKBest(chi2, k=4).fit_transform(X, y)\n",
    "    return X_new, y"
   ]
  },
  {
   "cell_type": "code",
   "execution_count": 218,
   "metadata": {},
   "outputs": [],
   "source": [
    "#extraction using mutual information\n",
    "from sklearn.feature_selection import mutual_info_classif\n",
    "def get_features_mutual_info(df, output):\n",
    "    vector_df = pd.DataFrame(output, index=df.index)\n",
    "    vector_df_norm = vector_df.div(vector_df.sum(axis=1), axis=0)\n",
    "    vector_df_norm['Label'] = df['Label']\n",
    "    vector_df_norm['TrainSubjectId'] = df['TrainSubjectId']\n",
    "    vector_df_norm = vector_df_norm.fillna(0)\n",
    "    X = vector_df_norm.drop(['Label', 'TrainSubjectId'], axis=1)\n",
    "    y = vector_df_norm['Label']\n",
    "    X_new = SelectKBest(mutual_info_classif, k=15).fit_transform(X, y)\n",
    "    return X_new, y"
   ]
  },
  {
   "cell_type": "code",
   "execution_count": 207,
   "metadata": {},
   "outputs": [],
   "source": [
    "X_alike_chi_15, y_alike_chi_15 = get_features_chi2(data_input, liwc_alike_output)"
   ]
  },
  {
   "cell_type": "code",
   "execution_count": 219,
   "metadata": {},
   "outputs": [],
   "source": [
    "X_alike_mutual_15, y_alike_mutual_15 = get_features_mutual_info(data_input, liwc_alike_output)"
   ]
  },
  {
   "cell_type": "markdown",
   "metadata": {},
   "source": [
    "### Models"
   ]
  },
  {
   "cell_type": "code",
   "execution_count": 366,
   "metadata": {},
   "outputs": [],
   "source": [
    "def logistic_regression(X, y):\n",
    "\n",
    "    w = [1, 2**1, 2**2, 2**3, 2**4, 2**5, 2**6,2**7, 2**8]\n",
    "    weight = [{0: 1/(1+x),  1: x/(1+x)} for x in w]\n",
    "    C = [2**-6, 2**-5, 2**-4, 2**-3, 2**-2, 2**-1, 1, 2**1, 2**2, 2**3, 2**4, 2**5, 2**6]\n",
    "    # define grid search\n",
    "    hyperparam_grid = {\"class_weight\": weight\n",
    "                    ,\"C\": C\n",
    "                    ,\"penalty\": [\"l1\", \"l2\"]\n",
    "                    ,\"fit_intercept\": [True, False]  }\n",
    "    # define evaluation procedure\n",
    "    cv = KFold(n_splits=5, shuffle=True, random_state=13)\n",
    "    # define grid search\n",
    "    model_test = LogisticRegression()\n",
    "    grid = GridSearchCV(estimator=model_test, param_grid=hyperparam_grid, cv=cv, scoring='f1')\n",
    "    grid_result = grid.fit(X, y)\n",
    "    # summarize results\n",
    "    print(\"Best: %f using %s\" % (grid_result.best_score_, grid_result.best_params_))\n",
    "\n",
    "    #build a model with the best parameters, fix class_weight = (0.2, 0.8)\n",
    "\n",
    "    model = LogisticRegression(**grid_result.best_params_)\n",
    "    model.fit(X, y)\n",
    "    return model"
   ]
  },
  {
   "cell_type": "markdown",
   "metadata": {},
   "source": [
    "### PCA"
   ]
  },
  {
   "cell_type": "code",
   "execution_count": 442,
   "metadata": {},
   "outputs": [],
   "source": [
    "a = pd.DataFrame(liwc_alike_output, index=data_input.index)\n",
    "b = a.div(a.sum(axis=1), axis=0)\n",
    "b = b.fillna(0)"
   ]
  },
  {
   "cell_type": "code",
   "execution_count": 451,
   "metadata": {},
   "outputs": [],
   "source": [
    "lc_pca = pd.DataFrame(input, index=data_input.index)\n",
    "liwc_pca = lc_pca.div(lc_pca.sum(axis=1), axis=0)\n",
    "liwc_pca = liwc_pca.fillna(0)\n",
    "X_liwc_pca = PCA(n_components=15).fit_transform(liwc_pca)"
   ]
  },
  {
   "cell_type": "code",
   "execution_count": 443,
   "metadata": {},
   "outputs": [],
   "source": [
    "#save pca model\n",
    "pca = PCA(n_components=15)\n",
    "pca.fit(b)\n",
    "c = pca.transform(b)\n",
    "#joblib.dump(pca, os.path.join(HOME_DIR,'pca.pkl'))"
   ]
  },
  {
   "cell_type": "code",
   "execution_count": 447,
   "metadata": {},
   "outputs": [
    {
     "name": "stdout",
     "output_type": "stream",
     "text": [
      "              precision    recall  f1-score   support\n",
      "\n",
      "           0       0.96      0.85      0.90       403\n",
      "           1       0.54      0.82      0.65        83\n",
      "\n",
      "    accuracy                           0.85       486\n",
      "   macro avg       0.75      0.84      0.78       486\n",
      "weighted avg       0.89      0.85      0.86       486\n",
      "\n",
      "0.6476190476190478\n"
     ]
    }
   ],
   "source": [
    "model_pca = LogisticRegression(C = 64, class_weight = {0: 0.2, 1: 0.8}, fit_intercept = True, penalty = 'l1', solver='liblinear')\n",
    "model_pca.fit(c, data_input['Label'])\n",
    "y_pred_pca = model_pca.predict(c)\n",
    "print(classification_report(data_input['Label'], y_pred_pca))\n",
    "print(f1_score(data_input['Label'], y_pred_pca))"
   ]
  },
  {
   "cell_type": "code",
   "execution_count": 452,
   "metadata": {},
   "outputs": [
    {
     "name": "stdout",
     "output_type": "stream",
     "text": [
      "              precision    recall  f1-score   support\n",
      "\n",
      "           0       0.94      0.84      0.89       403\n",
      "           1       0.50      0.76      0.60        83\n",
      "\n",
      "    accuracy                           0.83       486\n",
      "   macro avg       0.72      0.80      0.74       486\n",
      "weighted avg       0.87      0.83      0.84       486\n",
      "\n",
      "0.6\n"
     ]
    }
   ],
   "source": [
    "model_pca_liwc = LogisticRegression(C = 64, class_weight = {0: 0.2, 1: 0.8}, fit_intercept = True, penalty = 'l1', solver='liblinear')\n",
    "model_pca_liwc.fit(liwc_pca, data_input['Label'])\n",
    "y_pred_pca_liwc = model_pca_liwc.predict(liwc_pca)\n",
    "print(classification_report(data_input['Label'], y_pred_pca_liwc))\n",
    "print(f1_score(data_input['Label'], y_pred_pca_liwc))"
   ]
  },
  {
   "cell_type": "code",
   "execution_count": 453,
   "metadata": {},
   "outputs": [
    {
     "data": {
      "text/plain": [
       "['/home_remote/model_pca_liwc.pkl']"
      ]
     },
     "execution_count": 453,
     "metadata": {},
     "output_type": "execute_result"
    }
   ],
   "source": [
    "joblib.dump(model_pca_liwc, os.path.join(HOME_DIR,'model_pca_liwc.pkl'))"
   ]
  },
  {
   "cell_type": "code",
   "execution_count": 449,
   "metadata": {},
   "outputs": [
    {
     "data": {
      "text/plain": [
       "['/home_remote/model_pca_liwc_alike.pkl']"
      ]
     },
     "execution_count": 449,
     "metadata": {},
     "output_type": "execute_result"
    }
   ],
   "source": [
    "joblib.dump(model_pca, os.path.join(HOME_DIR,'model_pca_liwc_alike.pkl'))"
   ]
  },
  {
   "cell_type": "markdown",
   "metadata": {},
   "source": [
    "#### Test PCA and hand-crafted\n"
   ]
  },
  {
   "cell_type": "code",
   "execution_count": 548,
   "metadata": {},
   "outputs": [],
   "source": [
    "#dataframe c\n",
    "c_df = pd.DataFrame(c)\n",
    "c_df['I'] = count_i\n",
    "c_df['Depression'] = my_depression\n",
    "c_df['My Anxiety'] = my_anxiety"
   ]
  },
  {
   "cell_type": "markdown",
   "metadata": {},
   "source": [
    "### Test with LR"
   ]
  },
  {
   "cell_type": "code",
   "execution_count": 159,
   "metadata": {},
   "outputs": [
    {
     "name": "stderr",
     "output_type": "stream",
     "text": [
      "/usr/local/lib/python3.8/dist-packages/sklearn/svm/_base.py:1206: ConvergenceWarning: Liblinear failed to converge, increase the number of iterations.\n",
      "  warnings.warn(\n"
     ]
    },
    {
     "name": "stdout",
     "output_type": "stream",
     "text": [
      "Best: 0.621761 using {'C': 64, 'class_weight': {0: 0.3333333333333333, 1: 0.6666666666666666}, 'fit_intercept': True}\n",
      "              precision    recall  f1-score   support\n",
      "\n",
      "           0       0.85      0.99      0.91       403\n",
      "           1       0.65      0.13      0.22        83\n",
      "\n",
      "    accuracy                           0.84       486\n",
      "   macro avg       0.75      0.56      0.57       486\n",
      "weighted avg       0.81      0.84      0.79       486\n",
      "\n"
     ]
    }
   ],
   "source": [
    "model = logistic_regression(X_liwc_alike_15, y_liwc_alike_15)\n",
    "y_pred_15 = model.predict(X_liwc_alike_15)\n",
    "print(classification_report(y_liwc_alike_15, y_pred_15))"
   ]
  },
  {
   "cell_type": "code",
   "execution_count": 208,
   "metadata": {},
   "outputs": [
    {
     "name": "stdout",
     "output_type": "stream",
     "text": [
      "Best: 0.585963 using {'C': 64, 'class_weight': {0: 0.2, 1: 0.8}, 'fit_intercept': True}\n",
      "              precision    recall  f1-score   support\n",
      "\n",
      "           0       0.86      0.91      0.89       380\n",
      "           1       0.60      0.47      0.53       106\n",
      "\n",
      "    accuracy                           0.82       486\n",
      "   macro avg       0.73      0.69      0.71       486\n",
      "weighted avg       0.80      0.82      0.81       486\n",
      "\n"
     ]
    }
   ],
   "source": [
    "#test with X_alike_chi_15\n",
    "model_chi = logistic_regression(X_alike_chi_15, y_alike_chi_15)\n",
    "y_pred_15_chi = model_chi.predict(X_alike_chi_15)\n",
    "print(classification_report(y_pred_15_chi, y_alike_chi_15))"
   ]
  },
  {
   "cell_type": "code",
   "execution_count": 220,
   "metadata": {},
   "outputs": [
    {
     "name": "stdout",
     "output_type": "stream",
     "text": [
      "Best: 0.605273 using {'C': 16, 'class_weight': {0: 0.2, 1: 0.8}, 'fit_intercept': False}\n",
      "              precision    recall  f1-score   support\n",
      "\n",
      "           0       1.00      0.83      0.91       482\n",
      "           1       0.04      0.75      0.07         4\n",
      "\n",
      "    accuracy                           0.83       486\n",
      "   macro avg       0.52      0.79      0.49       486\n",
      "weighted avg       0.99      0.83      0.90       486\n",
      "\n"
     ]
    }
   ],
   "source": [
    "#test with X_alike_mutual_15\n",
    "model_mutual = logistic_regression(X_alike_mutual_15, y_alike_mutual_15)\n",
    "y_pred_15_mutual = model_mutual.predict(X_alike_mutual_15)\n",
    "print(classification_report(y_pred_15_mutual, y_alike_mutual_15))"
   ]
  },
  {
   "cell_type": "code",
   "execution_count": 564,
   "metadata": {},
   "outputs": [
    {
     "name": "stdout",
     "output_type": "stream",
     "text": [
      "F1 score:  0.5462184873949579\n"
     ]
    }
   ],
   "source": [
    "md = LogisticRegression(C = 4, class_weight = {0: 0.2, 1: 0.8}, penalty = 'l1', solver='liblinear')\n",
    "md.fit(X_handcrafted, y_handcrafted)\n",
    "y_handcrafted_pred = md.predict(X_handcrafted)\n",
    "#print f1 score\n",
    "print('F1 score: ', f1_score(y_handcrafted, y_handcrafted_pred))"
   ]
  },
  {
   "cell_type": "code",
   "execution_count": 551,
   "metadata": {},
   "outputs": [
    {
     "name": "stdout",
     "output_type": "stream",
     "text": [
      "F1 score:  0.5569620253164557\n"
     ]
    }
   ],
   "source": [
    "md = LogisticRegression(C = 4, class_weight = {0: 0.2, 1: 0.8}, penalty = 'l1', solver='liblinear', fit_intercept = True)\n",
    "md.fit(X_alike_handcrafted, y_alike_handcrafted)\n",
    "y_alike_handcrafted_pred = md.predict(X_alike_handcrafted)\n",
    "#print f1 score\n",
    "print('F1 score: ', f1_score(y_alike_handcrafted, y_alike_handcrafted_pred))"
   ]
  },
  {
   "cell_type": "code",
   "execution_count": 550,
   "metadata": {},
   "outputs": [
    {
     "data": {
      "text/html": [
       "<div>\n",
       "<style scoped>\n",
       "    .dataframe tbody tr th:only-of-type {\n",
       "        vertical-align: middle;\n",
       "    }\n",
       "\n",
       "    .dataframe tbody tr th {\n",
       "        vertical-align: top;\n",
       "    }\n",
       "\n",
       "    .dataframe thead th {\n",
       "        text-align: right;\n",
       "    }\n",
       "</style>\n",
       "<table border=\"1\" class=\"dataframe\">\n",
       "  <thead>\n",
       "    <tr style=\"text-align: right;\">\n",
       "      <th></th>\n",
       "      <th>Anxiety</th>\n",
       "      <th>I</th>\n",
       "      <th>Sadness</th>\n",
       "      <th>Affective Processes</th>\n",
       "      <th>Sexuality</th>\n",
       "      <th>Family</th>\n",
       "      <th>Friends</th>\n",
       "      <th>Fillers</th>\n",
       "      <th>Health</th>\n",
       "      <th>Feeling</th>\n",
       "      <th>...</th>\n",
       "      <th>Ppronouns</th>\n",
       "      <th>LWF</th>\n",
       "      <th>FOG</th>\n",
       "      <th>FRE</th>\n",
       "      <th>DCR</th>\n",
       "      <th>AVG_SEN</th>\n",
       "      <th>AVG_PER_WORD</th>\n",
       "      <th>word_I</th>\n",
       "      <th>Depression</th>\n",
       "      <th>My Anxiety</th>\n",
       "    </tr>\n",
       "  </thead>\n",
       "  <tbody>\n",
       "    <tr>\n",
       "      <th>0</th>\n",
       "      <td>5.0</td>\n",
       "      <td>94.0</td>\n",
       "      <td>2.0</td>\n",
       "      <td>11.0</td>\n",
       "      <td>7.0</td>\n",
       "      <td>16.0</td>\n",
       "      <td>18.0</td>\n",
       "      <td>0.0</td>\n",
       "      <td>41.0</td>\n",
       "      <td>49.0</td>\n",
       "      <td>...</td>\n",
       "      <td>296</td>\n",
       "      <td>5.605148</td>\n",
       "      <td>6.619235</td>\n",
       "      <td>81.937775</td>\n",
       "      <td>8.743571</td>\n",
       "      <td>11.231310</td>\n",
       "      <td>4.257142</td>\n",
       "      <td>221</td>\n",
       "      <td>1</td>\n",
       "      <td>0</td>\n",
       "    </tr>\n",
       "    <tr>\n",
       "      <th>1</th>\n",
       "      <td>19.0</td>\n",
       "      <td>239.0</td>\n",
       "      <td>23.0</td>\n",
       "      <td>119.0</td>\n",
       "      <td>65.0</td>\n",
       "      <td>56.0</td>\n",
       "      <td>107.0</td>\n",
       "      <td>0.0</td>\n",
       "      <td>37.0</td>\n",
       "      <td>461.0</td>\n",
       "      <td>...</td>\n",
       "      <td>2016</td>\n",
       "      <td>4.998421</td>\n",
       "      <td>8.600466</td>\n",
       "      <td>54.511370</td>\n",
       "      <td>14.550714</td>\n",
       "      <td>9.582653</td>\n",
       "      <td>5.979548</td>\n",
       "      <td>931</td>\n",
       "      <td>0</td>\n",
       "      <td>0</td>\n",
       "    </tr>\n",
       "    <tr>\n",
       "      <th>2</th>\n",
       "      <td>22.0</td>\n",
       "      <td>192.0</td>\n",
       "      <td>37.0</td>\n",
       "      <td>115.0</td>\n",
       "      <td>48.0</td>\n",
       "      <td>287.0</td>\n",
       "      <td>150.0</td>\n",
       "      <td>0.0</td>\n",
       "      <td>253.0</td>\n",
       "      <td>404.0</td>\n",
       "      <td>...</td>\n",
       "      <td>3761</td>\n",
       "      <td>7.510654</td>\n",
       "      <td>8.776853</td>\n",
       "      <td>72.480019</td>\n",
       "      <td>9.191313</td>\n",
       "      <td>14.441892</td>\n",
       "      <td>4.692336</td>\n",
       "      <td>668</td>\n",
       "      <td>0</td>\n",
       "      <td>0</td>\n",
       "    </tr>\n",
       "    <tr>\n",
       "      <th>3</th>\n",
       "      <td>10.0</td>\n",
       "      <td>134.0</td>\n",
       "      <td>16.0</td>\n",
       "      <td>30.0</td>\n",
       "      <td>17.0</td>\n",
       "      <td>38.0</td>\n",
       "      <td>55.0</td>\n",
       "      <td>0.0</td>\n",
       "      <td>10.0</td>\n",
       "      <td>103.0</td>\n",
       "      <td>...</td>\n",
       "      <td>729</td>\n",
       "      <td>6.428792</td>\n",
       "      <td>9.168175</td>\n",
       "      <td>53.461234</td>\n",
       "      <td>13.604531</td>\n",
       "      <td>11.577520</td>\n",
       "      <td>5.876640</td>\n",
       "      <td>320</td>\n",
       "      <td>0</td>\n",
       "      <td>0</td>\n",
       "    </tr>\n",
       "    <tr>\n",
       "      <th>4</th>\n",
       "      <td>31.0</td>\n",
       "      <td>269.0</td>\n",
       "      <td>13.0</td>\n",
       "      <td>39.0</td>\n",
       "      <td>65.0</td>\n",
       "      <td>43.0</td>\n",
       "      <td>54.0</td>\n",
       "      <td>0.0</td>\n",
       "      <td>66.0</td>\n",
       "      <td>183.0</td>\n",
       "      <td>...</td>\n",
       "      <td>1081</td>\n",
       "      <td>5.814043</td>\n",
       "      <td>7.193333</td>\n",
       "      <td>84.571111</td>\n",
       "      <td>8.456111</td>\n",
       "      <td>12.105556</td>\n",
       "      <td>4.118333</td>\n",
       "      <td>434</td>\n",
       "      <td>2</td>\n",
       "      <td>1</td>\n",
       "    </tr>\n",
       "    <tr>\n",
       "      <th>...</th>\n",
       "      <td>...</td>\n",
       "      <td>...</td>\n",
       "      <td>...</td>\n",
       "      <td>...</td>\n",
       "      <td>...</td>\n",
       "      <td>...</td>\n",
       "      <td>...</td>\n",
       "      <td>...</td>\n",
       "      <td>...</td>\n",
       "      <td>...</td>\n",
       "      <td>...</td>\n",
       "      <td>...</td>\n",
       "      <td>...</td>\n",
       "      <td>...</td>\n",
       "      <td>...</td>\n",
       "      <td>...</td>\n",
       "      <td>...</td>\n",
       "      <td>...</td>\n",
       "      <td>...</td>\n",
       "      <td>...</td>\n",
       "      <td>...</td>\n",
       "    </tr>\n",
       "    <tr>\n",
       "      <th>481</th>\n",
       "      <td>16.0</td>\n",
       "      <td>89.0</td>\n",
       "      <td>13.0</td>\n",
       "      <td>45.0</td>\n",
       "      <td>16.0</td>\n",
       "      <td>56.0</td>\n",
       "      <td>19.0</td>\n",
       "      <td>1.0</td>\n",
       "      <td>121.0</td>\n",
       "      <td>150.0</td>\n",
       "      <td>...</td>\n",
       "      <td>1208</td>\n",
       "      <td>3.066783</td>\n",
       "      <td>5.148698</td>\n",
       "      <td>74.019023</td>\n",
       "      <td>12.005814</td>\n",
       "      <td>7.109767</td>\n",
       "      <td>5.513581</td>\n",
       "      <td>315</td>\n",
       "      <td>0</td>\n",
       "      <td>0</td>\n",
       "    </tr>\n",
       "    <tr>\n",
       "      <th>482</th>\n",
       "      <td>4.0</td>\n",
       "      <td>37.0</td>\n",
       "      <td>2.0</td>\n",
       "      <td>5.0</td>\n",
       "      <td>3.0</td>\n",
       "      <td>10.0</td>\n",
       "      <td>13.0</td>\n",
       "      <td>0.0</td>\n",
       "      <td>1.0</td>\n",
       "      <td>28.0</td>\n",
       "      <td>...</td>\n",
       "      <td>238</td>\n",
       "      <td>5.645811</td>\n",
       "      <td>6.621579</td>\n",
       "      <td>80.769123</td>\n",
       "      <td>9.403333</td>\n",
       "      <td>11.316667</td>\n",
       "      <td>4.336491</td>\n",
       "      <td>93</td>\n",
       "      <td>0</td>\n",
       "      <td>0</td>\n",
       "    </tr>\n",
       "    <tr>\n",
       "      <th>483</th>\n",
       "      <td>41.0</td>\n",
       "      <td>168.0</td>\n",
       "      <td>34.0</td>\n",
       "      <td>99.0</td>\n",
       "      <td>30.0</td>\n",
       "      <td>62.0</td>\n",
       "      <td>57.0</td>\n",
       "      <td>0.0</td>\n",
       "      <td>132.0</td>\n",
       "      <td>389.0</td>\n",
       "      <td>...</td>\n",
       "      <td>2892</td>\n",
       "      <td>6.070336</td>\n",
       "      <td>7.458582</td>\n",
       "      <td>76.143247</td>\n",
       "      <td>8.379630</td>\n",
       "      <td>11.934200</td>\n",
       "      <td>4.574925</td>\n",
       "      <td>567</td>\n",
       "      <td>0</td>\n",
       "      <td>0</td>\n",
       "    </tr>\n",
       "    <tr>\n",
       "      <th>484</th>\n",
       "      <td>67.0</td>\n",
       "      <td>371.0</td>\n",
       "      <td>27.0</td>\n",
       "      <td>121.0</td>\n",
       "      <td>45.0</td>\n",
       "      <td>44.0</td>\n",
       "      <td>49.0</td>\n",
       "      <td>2.0</td>\n",
       "      <td>571.0</td>\n",
       "      <td>513.0</td>\n",
       "      <td>...</td>\n",
       "      <td>5405</td>\n",
       "      <td>4.759871</td>\n",
       "      <td>8.318931</td>\n",
       "      <td>62.149830</td>\n",
       "      <td>12.878742</td>\n",
       "      <td>9.236897</td>\n",
       "      <td>5.426982</td>\n",
       "      <td>1265</td>\n",
       "      <td>0</td>\n",
       "      <td>1</td>\n",
       "    </tr>\n",
       "    <tr>\n",
       "      <th>485</th>\n",
       "      <td>10.0</td>\n",
       "      <td>54.0</td>\n",
       "      <td>3.0</td>\n",
       "      <td>29.0</td>\n",
       "      <td>13.0</td>\n",
       "      <td>23.0</td>\n",
       "      <td>24.0</td>\n",
       "      <td>0.0</td>\n",
       "      <td>123.0</td>\n",
       "      <td>116.0</td>\n",
       "      <td>...</td>\n",
       "      <td>991</td>\n",
       "      <td>4.188866</td>\n",
       "      <td>6.800330</td>\n",
       "      <td>68.376599</td>\n",
       "      <td>10.980685</td>\n",
       "      <td>8.639086</td>\n",
       "      <td>5.382411</td>\n",
       "      <td>121</td>\n",
       "      <td>0</td>\n",
       "      <td>0</td>\n",
       "    </tr>\n",
       "  </tbody>\n",
       "</table>\n",
       "<p>486 rows × 32 columns</p>\n",
       "</div>"
      ],
      "text/plain": [
       "     Anxiety      I  Sadness  Affective Processes  Sexuality  Family  Friends  \\\n",
       "0        5.0   94.0      2.0                 11.0        7.0    16.0     18.0   \n",
       "1       19.0  239.0     23.0                119.0       65.0    56.0    107.0   \n",
       "2       22.0  192.0     37.0                115.0       48.0   287.0    150.0   \n",
       "3       10.0  134.0     16.0                 30.0       17.0    38.0     55.0   \n",
       "4       31.0  269.0     13.0                 39.0       65.0    43.0     54.0   \n",
       "..       ...    ...      ...                  ...        ...     ...      ...   \n",
       "481     16.0   89.0     13.0                 45.0       16.0    56.0     19.0   \n",
       "482      4.0   37.0      2.0                  5.0        3.0    10.0     13.0   \n",
       "483     41.0  168.0     34.0                 99.0       30.0    62.0     57.0   \n",
       "484     67.0  371.0     27.0                121.0       45.0    44.0     49.0   \n",
       "485     10.0   54.0      3.0                 29.0       13.0    23.0     24.0   \n",
       "\n",
       "     Fillers  Health  Feeling  ...  Ppronouns       LWF       FOG        FRE  \\\n",
       "0        0.0    41.0     49.0  ...        296  5.605148  6.619235  81.937775   \n",
       "1        0.0    37.0    461.0  ...       2016  4.998421  8.600466  54.511370   \n",
       "2        0.0   253.0    404.0  ...       3761  7.510654  8.776853  72.480019   \n",
       "3        0.0    10.0    103.0  ...        729  6.428792  9.168175  53.461234   \n",
       "4        0.0    66.0    183.0  ...       1081  5.814043  7.193333  84.571111   \n",
       "..       ...     ...      ...  ...        ...       ...       ...        ...   \n",
       "481      1.0   121.0    150.0  ...       1208  3.066783  5.148698  74.019023   \n",
       "482      0.0     1.0     28.0  ...        238  5.645811  6.621579  80.769123   \n",
       "483      0.0   132.0    389.0  ...       2892  6.070336  7.458582  76.143247   \n",
       "484      2.0   571.0    513.0  ...       5405  4.759871  8.318931  62.149830   \n",
       "485      0.0   123.0    116.0  ...        991  4.188866  6.800330  68.376599   \n",
       "\n",
       "           DCR    AVG_SEN  AVG_PER_WORD  word_I  Depression  My Anxiety  \n",
       "0     8.743571  11.231310      4.257142     221           1           0  \n",
       "1    14.550714   9.582653      5.979548     931           0           0  \n",
       "2     9.191313  14.441892      4.692336     668           0           0  \n",
       "3    13.604531  11.577520      5.876640     320           0           0  \n",
       "4     8.456111  12.105556      4.118333     434           2           1  \n",
       "..         ...        ...           ...     ...         ...         ...  \n",
       "481  12.005814   7.109767      5.513581     315           0           0  \n",
       "482   9.403333  11.316667      4.336491      93           0           0  \n",
       "483   8.379630  11.934200      4.574925     567           0           0  \n",
       "484  12.878742   9.236897      5.426982    1265           0           1  \n",
       "485  10.980685   8.639086      5.382411     121           0           0  \n",
       "\n",
       "[486 rows x 32 columns]"
      ]
     },
     "execution_count": 550,
     "metadata": {},
     "output_type": "execute_result"
    }
   ],
   "source": [
    "X_alike_handcrafted"
   ]
  },
  {
   "cell_type": "code",
   "execution_count": 565,
   "metadata": {},
   "outputs": [
    {
     "data": {
      "text/plain": [
       "['/home_remote/handcrafted_liwc23.pkl']"
      ]
     },
     "execution_count": 565,
     "metadata": {},
     "output_type": "execute_result"
    }
   ],
   "source": [
    "joblib.dump(md, os.path.join(HOME_DIR,'handcrafted_liwc23.pkl'))"
   ]
  },
  {
   "cell_type": "markdown",
   "metadata": {},
   "source": [
    "### LSTM"
   ]
  },
  {
   "cell_type": "code",
   "execution_count": 99,
   "metadata": {},
   "outputs": [
    {
     "name": "stdout",
     "output_type": "stream",
     "text": [
      "Vocabulary Size: 165172\n"
     ]
    }
   ],
   "source": [
    "from tensorflow.keras.preprocessing.text import Tokenizer\n",
    "\n",
    "# Example text data (replace this with your actual text data)\n",
    "texts = data_input['text'].tolist()\n",
    "# Create a tokenizer and fit it on your text data\n",
    "tokenizer = Tokenizer()\n",
    "tokenizer.fit_on_texts(texts)\n",
    "\n",
    "# Get the vocabulary size\n",
    "vocabulary_size = len(tokenizer.word_index) + 1  # Add 1 for the special padding token if used\n",
    "\n",
    "print(\"Vocabulary Size:\", vocabulary_size)"
   ]
  },
  {
   "cell_type": "code",
   "execution_count": 101,
   "metadata": {},
   "outputs": [],
   "source": [
    "X_train, X_test, y_train, y_test = train_test_split(c, data_input['Label'], test_size=0.2, random_state=13)"
   ]
  },
  {
   "cell_type": "code",
   "execution_count": 108,
   "metadata": {},
   "outputs": [
    {
     "name": "stderr",
     "output_type": "stream",
     "text": [
      "2023-11-13 23:44:56.661048: W tensorflow/core/common_runtime/bfc_allocator.cc:462] Allocator (GPU_0_bfc) ran out of memory trying to allocate 7.5KiB (rounded to 7680)requested by op RandomUniform\n",
      "If the cause is memory fragmentation maybe the environment variable 'TF_GPU_ALLOCATOR=cuda_malloc_async' will improve the situation. \n",
      "Current allocation summary follows.\n",
      "Current allocation summary follows.\n",
      "2023-11-13 23:44:56.661127: I tensorflow/core/common_runtime/bfc_allocator.cc:1010] BFCAllocator dump for GPU_0_bfc\n",
      "2023-11-13 23:44:56.661156: I tensorflow/core/common_runtime/bfc_allocator.cc:1017] Bin (256): \tTotal Chunks: 4, Chunks in use: 3. 1.0KiB allocated for chunks. 768B in use in bin. 16B client-requested in use in bin.\n",
      "2023-11-13 23:44:56.661178: I tensorflow/core/common_runtime/bfc_allocator.cc:1017] Bin (512): \tTotal Chunks: 0, Chunks in use: 0. 0B allocated for chunks. 0B in use in bin. 0B client-requested in use in bin.\n",
      "2023-11-13 23:44:56.661199: I tensorflow/core/common_runtime/bfc_allocator.cc:1017] Bin (1024): \tTotal Chunks: 1, Chunks in use: 1. 1.2KiB allocated for chunks. 1.2KiB in use in bin. 1.0KiB client-requested in use in bin.\n",
      "2023-11-13 23:44:56.661219: I tensorflow/core/common_runtime/bfc_allocator.cc:1017] Bin (2048): \tTotal Chunks: 0, Chunks in use: 0. 0B allocated for chunks. 0B in use in bin. 0B client-requested in use in bin.\n",
      "2023-11-13 23:44:56.661238: I tensorflow/core/common_runtime/bfc_allocator.cc:1017] Bin (4096): \tTotal Chunks: 0, Chunks in use: 0. 0B allocated for chunks. 0B in use in bin. 0B client-requested in use in bin.\n",
      "2023-11-13 23:44:56.661257: I tensorflow/core/common_runtime/bfc_allocator.cc:1017] Bin (8192): \tTotal Chunks: 0, Chunks in use: 0. 0B allocated for chunks. 0B in use in bin. 0B client-requested in use in bin.\n",
      "2023-11-13 23:44:56.661276: I tensorflow/core/common_runtime/bfc_allocator.cc:1017] Bin (16384): \tTotal Chunks: 0, Chunks in use: 0. 0B allocated for chunks. 0B in use in bin. 0B client-requested in use in bin.\n",
      "2023-11-13 23:44:56.661298: I tensorflow/core/common_runtime/bfc_allocator.cc:1017] Bin (32768): \tTotal Chunks: 0, Chunks in use: 0. 0B allocated for chunks. 0B in use in bin. 0B client-requested in use in bin.\n",
      "2023-11-13 23:44:56.661317: I tensorflow/core/common_runtime/bfc_allocator.cc:1017] Bin (65536): \tTotal Chunks: 0, Chunks in use: 0. 0B allocated for chunks. 0B in use in bin. 0B client-requested in use in bin.\n",
      "2023-11-13 23:44:56.661336: I tensorflow/core/common_runtime/bfc_allocator.cc:1017] Bin (131072): \tTotal Chunks: 0, Chunks in use: 0. 0B allocated for chunks. 0B in use in bin. 0B client-requested in use in bin.\n",
      "2023-11-13 23:44:56.661355: I tensorflow/core/common_runtime/bfc_allocator.cc:1017] Bin (262144): \tTotal Chunks: 0, Chunks in use: 0. 0B allocated for chunks. 0B in use in bin. 0B client-requested in use in bin.\n",
      "2023-11-13 23:44:56.661373: I tensorflow/core/common_runtime/bfc_allocator.cc:1017] Bin (524288): \tTotal Chunks: 0, Chunks in use: 0. 0B allocated for chunks. 0B in use in bin. 0B client-requested in use in bin.\n",
      "2023-11-13 23:44:56.661392: I tensorflow/core/common_runtime/bfc_allocator.cc:1017] Bin (1048576): \tTotal Chunks: 0, Chunks in use: 0. 0B allocated for chunks. 0B in use in bin. 0B client-requested in use in bin.\n",
      "2023-11-13 23:44:56.661410: I tensorflow/core/common_runtime/bfc_allocator.cc:1017] Bin (2097152): \tTotal Chunks: 0, Chunks in use: 0. 0B allocated for chunks. 0B in use in bin. 0B client-requested in use in bin.\n",
      "2023-11-13 23:44:56.661429: I tensorflow/core/common_runtime/bfc_allocator.cc:1017] Bin (4194304): \tTotal Chunks: 0, Chunks in use: 0. 0B allocated for chunks. 0B in use in bin. 0B client-requested in use in bin.\n",
      "2023-11-13 23:44:56.661448: I tensorflow/core/common_runtime/bfc_allocator.cc:1017] Bin (8388608): \tTotal Chunks: 0, Chunks in use: 0. 0B allocated for chunks. 0B in use in bin. 0B client-requested in use in bin.\n",
      "2023-11-13 23:44:56.661466: I tensorflow/core/common_runtime/bfc_allocator.cc:1017] Bin (16777216): \tTotal Chunks: 0, Chunks in use: 0. 0B allocated for chunks. 0B in use in bin. 0B client-requested in use in bin.\n",
      "2023-11-13 23:44:56.661485: I tensorflow/core/common_runtime/bfc_allocator.cc:1017] Bin (33554432): \tTotal Chunks: 0, Chunks in use: 0. 0B allocated for chunks. 0B in use in bin. 0B client-requested in use in bin.\n",
      "2023-11-13 23:44:56.661511: I tensorflow/core/common_runtime/bfc_allocator.cc:1017] Bin (67108864): \tTotal Chunks: 2, Chunks in use: 2. 165.62MiB allocated for chunks. 165.62MiB in use in bin. 161.30MiB client-requested in use in bin.\n",
      "2023-11-13 23:44:56.661530: I tensorflow/core/common_runtime/bfc_allocator.cc:1017] Bin (134217728): \tTotal Chunks: 0, Chunks in use: 0. 0B allocated for chunks. 0B in use in bin. 0B client-requested in use in bin.\n",
      "2023-11-13 23:44:56.661554: I tensorflow/core/common_runtime/bfc_allocator.cc:1017] Bin (268435456): \tTotal Chunks: 0, Chunks in use: 0. 0B allocated for chunks. 0B in use in bin. 0B client-requested in use in bin.\n",
      "2023-11-13 23:44:56.661575: I tensorflow/core/common_runtime/bfc_allocator.cc:1033] Bin for 7.5KiB was 4.0KiB, Chunk State: \n",
      "2023-11-13 23:44:56.661591: I tensorflow/core/common_runtime/bfc_allocator.cc:1046] Next region of size 173670400\n",
      "2023-11-13 23:44:56.661613: I tensorflow/core/common_runtime/bfc_allocator.cc:1066] InUse at 4203be0000 of size 256 next 1\n",
      "2023-11-13 23:44:56.661630: I tensorflow/core/common_runtime/bfc_allocator.cc:1066] InUse at 4203be0100 of size 1280 next 2\n",
      "2023-11-13 23:44:56.661647: I tensorflow/core/common_runtime/bfc_allocator.cc:1066] InUse at 4203be0600 of size 256 next 3\n",
      "2023-11-13 23:44:56.661663: I tensorflow/core/common_runtime/bfc_allocator.cc:1066] InUse at 4203be0700 of size 256 next 4\n",
      "2023-11-13 23:44:56.661679: I tensorflow/core/common_runtime/bfc_allocator.cc:1066] InUse at 4203be0800 of size 84568064 next 5\n",
      "2023-11-13 23:44:56.661695: I tensorflow/core/common_runtime/bfc_allocator.cc:1066] Free  at 4208c87000 of size 256 next 6\n",
      "2023-11-13 23:44:56.661712: I tensorflow/core/common_runtime/bfc_allocator.cc:1066] InUse at 4208c87100 of size 89100032 next 18446744073709551615\n",
      "2023-11-13 23:44:56.661727: I tensorflow/core/common_runtime/bfc_allocator.cc:1071]      Summary of in-use Chunks by size: \n",
      "2023-11-13 23:44:56.661746: I tensorflow/core/common_runtime/bfc_allocator.cc:1074] 3 Chunks of size 256 totalling 768B\n",
      "2023-11-13 23:44:56.661764: I tensorflow/core/common_runtime/bfc_allocator.cc:1074] 1 Chunks of size 1280 totalling 1.2KiB\n",
      "2023-11-13 23:44:56.661783: I tensorflow/core/common_runtime/bfc_allocator.cc:1074] 1 Chunks of size 84568064 totalling 80.65MiB\n",
      "2023-11-13 23:44:56.661802: I tensorflow/core/common_runtime/bfc_allocator.cc:1074] 1 Chunks of size 89100032 totalling 84.97MiB\n",
      "2023-11-13 23:44:56.661820: I tensorflow/core/common_runtime/bfc_allocator.cc:1078] Sum Total of in-use chunks: 165.62MiB\n",
      "2023-11-13 23:44:56.661836: I tensorflow/core/common_runtime/bfc_allocator.cc:1080] total_region_allocated_bytes_: 173670400 memory_limit_: 173670400 available bytes: 0 curr_region_allocation_bytes_: 347340800\n",
      "2023-11-13 23:44:56.661860: I tensorflow/core/common_runtime/bfc_allocator.cc:1086] Stats: \n",
      "Limit:                       173670400\n",
      "InUse:                       173670144\n",
      "MaxInUse:                    173670400\n",
      "NumAllocs:                           7\n",
      "MaxAllocSize:                 89100032\n",
      "Reserved:                            0\n",
      "PeakReserved:                        0\n",
      "LargestFreeBlock:                    0\n",
      "\n",
      "2023-11-13 23:44:56.661880: W tensorflow/core/common_runtime/bfc_allocator.cc:474] **************************************************************************************************xx\n",
      "2023-11-13 23:44:56.661942: W tensorflow/core/framework/op_kernel.cc:1745] OP_REQUIRES failed at random_op.cc:74 : RESOURCE_EXHAUSTED: OOM when allocating tensor with shape[15,128] and type float on /job:localhost/replica:0/task:0/device:GPU:0 by allocator GPU_0_bfc\n"
     ]
    },
    {
     "ename": "ResourceExhaustedError",
     "evalue": "OOM when allocating tensor with shape[15,128] and type float on /job:localhost/replica:0/task:0/device:GPU:0 by allocator GPU_0_bfc [Op:RandomUniform]",
     "output_type": "error",
     "traceback": [
      "\u001b[0;31m---------------------------------------------------------------------------\u001b[0m",
      "\u001b[0;31mResourceExhaustedError\u001b[0m                    Traceback (most recent call last)",
      "\u001b[1;32m/home/thi.tra.my.nguyen/master_thesis/model_evaluation/lexicon_based_models.ipynb Cell 24\u001b[0m line \u001b[0;36m<cell line: 12>\u001b[0;34m()\u001b[0m\n\u001b[1;32m      <a href='vscode-notebook-cell://ssh-remote%2Bsupmic2/home/thi.tra.my.nguyen/master_thesis/model_evaluation/lexicon_based_models.ipynb#X44sdnNjb2RlLXJlbW90ZQ%3D%3D?line=8'>9</a>\u001b[0m model2 \u001b[39m=\u001b[39m Sequential()\n\u001b[1;32m     <a href='vscode-notebook-cell://ssh-remote%2Bsupmic2/home/thi.tra.my.nguyen/master_thesis/model_evaluation/lexicon_based_models.ipynb#X44sdnNjb2RlLXJlbW90ZQ%3D%3D?line=10'>11</a>\u001b[0m \u001b[39m# Embedding layer\u001b[39;00m\n\u001b[0;32m---> <a href='vscode-notebook-cell://ssh-remote%2Bsupmic2/home/thi.tra.my.nguyen/master_thesis/model_evaluation/lexicon_based_models.ipynb#X44sdnNjb2RlLXJlbW90ZQ%3D%3D?line=11'>12</a>\u001b[0m model2\u001b[39m.\u001b[39;49madd(Embedding(input_dim \u001b[39m=\u001b[39;49m \u001b[39m15\u001b[39;49m , output_dim \u001b[39m=\u001b[39;49m\u001b[39m128\u001b[39;49m))\n\u001b[1;32m     <a href='vscode-notebook-cell://ssh-remote%2Bsupmic2/home/thi.tra.my.nguyen/master_thesis/model_evaluation/lexicon_based_models.ipynb#X44sdnNjb2RlLXJlbW90ZQ%3D%3D?line=13'>14</a>\u001b[0m \u001b[39m# LSTM layer with ReLU activation and dropout\u001b[39;00m\n\u001b[1;32m     <a href='vscode-notebook-cell://ssh-remote%2Bsupmic2/home/thi.tra.my.nguyen/master_thesis/model_evaluation/lexicon_based_models.ipynb#X44sdnNjb2RlLXJlbW90ZQ%3D%3D?line=14'>15</a>\u001b[0m model2\u001b[39m.\u001b[39madd(LSTM(\u001b[39m128\u001b[39m, activation\u001b[39m=\u001b[39m\u001b[39m'\u001b[39m\u001b[39mrelu\u001b[39m\u001b[39m'\u001b[39m, dropout\u001b[39m=\u001b[39m\u001b[39m0.3\u001b[39m, recurrent_dropout\u001b[39m=\u001b[39m\u001b[39m0.3\u001b[39m))\n",
      "File \u001b[0;32m/usr/local/lib/python3.8/dist-packages/tensorflow/python/training/tracking/base.py:629\u001b[0m, in \u001b[0;36mno_automatic_dependency_tracking.<locals>._method_wrapper\u001b[0;34m(self, *args, **kwargs)\u001b[0m\n\u001b[1;32m    627\u001b[0m \u001b[39mself\u001b[39m\u001b[39m.\u001b[39m_self_setattr_tracking \u001b[39m=\u001b[39m \u001b[39mFalse\u001b[39;00m  \u001b[39m# pylint: disable=protected-access\u001b[39;00m\n\u001b[1;32m    628\u001b[0m \u001b[39mtry\u001b[39;00m:\n\u001b[0;32m--> 629\u001b[0m   result \u001b[39m=\u001b[39m method(\u001b[39mself\u001b[39;49m, \u001b[39m*\u001b[39;49margs, \u001b[39m*\u001b[39;49m\u001b[39m*\u001b[39;49mkwargs)\n\u001b[1;32m    630\u001b[0m \u001b[39mfinally\u001b[39;00m:\n\u001b[1;32m    631\u001b[0m   \u001b[39mself\u001b[39m\u001b[39m.\u001b[39m_self_setattr_tracking \u001b[39m=\u001b[39m previous_value  \u001b[39m# pylint: disable=protected-access\u001b[39;00m\n",
      "File \u001b[0;32m/usr/local/lib/python3.8/dist-packages/keras/utils/traceback_utils.py:67\u001b[0m, in \u001b[0;36mfilter_traceback.<locals>.error_handler\u001b[0;34m(*args, **kwargs)\u001b[0m\n\u001b[1;32m     65\u001b[0m \u001b[39mexcept\u001b[39;00m \u001b[39mException\u001b[39;00m \u001b[39mas\u001b[39;00m e:  \u001b[39m# pylint: disable=broad-except\u001b[39;00m\n\u001b[1;32m     66\u001b[0m   filtered_tb \u001b[39m=\u001b[39m _process_traceback_frames(e\u001b[39m.\u001b[39m__traceback__)\n\u001b[0;32m---> 67\u001b[0m   \u001b[39mraise\u001b[39;00m e\u001b[39m.\u001b[39mwith_traceback(filtered_tb) \u001b[39mfrom\u001b[39;00m \u001b[39mNone\u001b[39m\n\u001b[1;32m     68\u001b[0m \u001b[39mfinally\u001b[39;00m:\n\u001b[1;32m     69\u001b[0m   \u001b[39mdel\u001b[39;00m filtered_tb\n",
      "File \u001b[0;32m/usr/local/lib/python3.8/dist-packages/keras/backend.py:1920\u001b[0m, in \u001b[0;36mRandomGenerator.random_uniform\u001b[0;34m(self, shape, minval, maxval, dtype)\u001b[0m\n\u001b[1;32m   1917\u001b[0m \u001b[39mif\u001b[39;00m \u001b[39mself\u001b[39m\u001b[39m.\u001b[39m_generator:\n\u001b[1;32m   1918\u001b[0m   \u001b[39mreturn\u001b[39;00m \u001b[39mself\u001b[39m\u001b[39m.\u001b[39m_generator\u001b[39m.\u001b[39muniform(\n\u001b[1;32m   1919\u001b[0m       shape\u001b[39m=\u001b[39mshape, minval\u001b[39m=\u001b[39mminval, maxval\u001b[39m=\u001b[39mmaxval, dtype\u001b[39m=\u001b[39mdtype)\n\u001b[0;32m-> 1920\u001b[0m \u001b[39mreturn\u001b[39;00m tf\u001b[39m.\u001b[39;49mrandom\u001b[39m.\u001b[39;49muniform(\n\u001b[1;32m   1921\u001b[0m     shape\u001b[39m=\u001b[39;49mshape, minval\u001b[39m=\u001b[39;49mminval, maxval\u001b[39m=\u001b[39;49mmaxval, dtype\u001b[39m=\u001b[39;49mdtype,\n\u001b[1;32m   1922\u001b[0m     seed\u001b[39m=\u001b[39;49m\u001b[39mself\u001b[39;49m\u001b[39m.\u001b[39;49mmake_legacy_seed())\n",
      "\u001b[0;31mResourceExhaustedError\u001b[0m: OOM when allocating tensor with shape[15,128] and type float on /job:localhost/replica:0/task:0/device:GPU:0 by allocator GPU_0_bfc [Op:RandomUniform]"
     ]
    }
   ],
   "source": [
    "#lstm \n",
    "import numpy as np\n",
    "from tensorflow.keras.models import Sequential\n",
    "from tensorflow.keras.layers import Embedding, LSTM, Dense, Dropout\n",
    "from tensorflow.keras.optimizers import Adam\n",
    "from tensorflow.keras.callbacks import LearningRateScheduler\n",
    "\n",
    "# Define the model\n",
    "model2 = Sequential()\n",
    "\n",
    "# Embedding layer\n",
    "model2.add(Embedding(input_dim = 15 , output_dim =128))\n",
    "\n",
    "# LSTM layer with ReLU activation and dropout\n",
    "model2.add(LSTM(128, activation='relu', dropout=0.3, recurrent_dropout=0.3))\n",
    "\n",
    "# Fully connected layer with ReLU activation\n",
    "model2.add(Dense(128, activation='relu', kernel_regularizer='l2', bias_regularizer='l2'))\n",
    "\n",
    "# Dropout layer\n",
    "model2.add(Dropout(0.3))\n",
    "\n",
    "# Output layer with softmax activation for binary classification\n",
    "model2.add(Dense(1, activation='sigmoid'))\n",
    "\n",
    "# Compile the model\n",
    "model2.compile(loss='binary_crossentropy', optimizer=Adam(learning_rate=1e-4), metrics=['accuracy'])\n",
    "\n",
    "# Learning rate decay scheduler\n",
    "def lr_scheduler(epoch, lr):\n",
    "    return lr * np.exp(-1e-5 * epoch)\n",
    "\n",
    "lr_callback = LearningRateScheduler(lr_scheduler)\n",
    "\n",
    "# Train the model\n",
    "model2.fit(X_train, y_train, epochs=130, batch_size=100, callbacks=[lr_callback], class_weight={0: 0.2, 1: 0.8})"
   ]
  },
  {
   "cell_type": "code",
   "execution_count": null,
   "metadata": {},
   "outputs": [],
   "source": []
  }
 ],
 "metadata": {
  "kernelspec": {
   "display_name": "Python 3 (ipykernel)",
   "language": "python",
   "name": "python3"
  }
 },
 "nbformat": 4,
 "nbformat_minor": 2
}
