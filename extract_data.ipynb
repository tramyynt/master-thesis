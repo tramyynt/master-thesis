{
  "cells": [
    {
      "cell_type": "code",
      "execution_count": null,
      "metadata": {
        "id": "DlV_SMTFZDrG"
      },
      "outputs": [],
      "source": [
        "import os\n",
        "\n",
        "def get_all_xml_files_in_a_folder(folder_path):\n",
        "  xml_files = []\n",
        "\n",
        "  for root, dirs, files in os.walk(folder_path):\n",
        "      for file in files:\n",
        "          if file.endswith('.xml'):\n",
        "              xml_files.append(os.path.join(root, file))\n",
        "\n",
        "  return xml_files"
      ]
    },
    {
      "cell_type": "code",
      "execution_count": null,
      "metadata": {
        "id": "ZhLirhyEcUNf"
      },
      "outputs": [],
      "source": [
        "import xml.etree.ElementTree as ET\n",
        "import pandas as pd\n",
        "\n",
        "def extract_data_from_xml(xml_file):\n",
        "    individual_writings = pd.DataFrame(columns = ['Title', 'Date', 'Text', 'Info'])\n",
        "    try:\n",
        "        tree = ET.parse(xml_file)\n",
        "        root = tree.getroot()\n",
        "\n",
        "        for writing in root.findall('WRITING'):\n",
        "          writing_title = writing.find('TITLE').text\n",
        "          writing_date = writing.find('DATE').text\n",
        "          writing_text = writing.find('TEXT').text\n",
        "          writing_info = writing.find('INFO').text\n",
        "          individual_writings = pd.concat([\n",
        "              individual_writings,\n",
        "              pd.DataFrame.from_dict({\"Title\": [writing_title], \"Date\": [writing_date], \"Text\": [writing_text], \"Info\": [writing_info] })\n",
        "          ], ignore_index=True)\n",
        "\n",
        "        train_subject_id = root.find('ID').text\n",
        "        individual_writings['TrainSubjectId'] = train_subject_id\n",
        "\n",
        "        return individual_writings\n",
        "    except Exception as e:\n",
        "        print(f\"Error parsing {xml_file}: {str(e)}\")\n",
        "        return None"
      ]
    },
    {
      "cell_type": "code",
      "execution_count": null,
      "metadata": {
        "id": "kaFJguWaXw9V"
      },
      "outputs": [],
      "source": [
        "def extract_data_from_folder_and_save_to_pickle(folder_path, save_to_path):\n",
        "  xml_files = get_all_xml_files_in_a_folder(folder_path)\n",
        "\n",
        "  df = pd.DataFrame()\n",
        "\n",
        "  for xml_file in xml_files:\n",
        "    data_of_xml_file = extract_data_from_xml(xml_file)\n",
        "    if data_of_xml_file == None:\n",
        "      continue\n",
        "    df = pd.concat([df, data_of_xml_file])\n",
        "\n",
        "  df.to_pickle(save_to_path)\n",
        "\n",
        "  return df"
      ]
    }
  ],
  "metadata": {
    "colab": {
      "provenance": []
    },
    "kernelspec": {
      "display_name": "Python 3 (ipykernel)",
      "language": "python",
      "name": "python3"
    }
  },
  "nbformat": 4,
  "nbformat_minor": 0
}
